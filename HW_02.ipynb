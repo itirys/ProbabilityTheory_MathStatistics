{
 "cells": [
  {
   "cell_type": "code",
   "execution_count": 51,
   "id": "922112b8",
   "metadata": {},
   "outputs": [],
   "source": [
    "import numpy as np\n",
    "from math import factorial\n",
    "\n",
    "# Сочетания\n",
    "def combinations(n, k):\n",
    "    return int(factorial(n) / (factorial(k) * factorial(n - k)))\n",
    "\n",
    "# Формула Бернулли\n",
    "def bernulli(n,k,p):\n",
    "    return (combinations(n,k) * (p ** k) * ((1 - p) ** (n - k)))\n",
    "\n",
    "# Формула Пуассона\n",
    "def puasson(n,m,p):\n",
    "    lambda_ = n * p\n",
    "    return (lambda_ ** m / factorial(m)) * np.exp(-lambda_)"
   ]
  },
  {
   "cell_type": "markdown",
   "id": "64af3e0b",
   "metadata": {},
   "source": [
    "**1. Вероятность того, что стрелок попадет в мишень, выстрелив один раз, равна 0.8. Стрелок выстрелил 100 раз. Найдите вероятность того, что стрелок попадет в цель ровно 85 раз.**"
   ]
  },
  {
   "cell_type": "markdown",
   "id": "67784623",
   "metadata": {},
   "source": [
    "Имеем:\n",
    "\n",
    "n = 100 независимых испытаний\n",
    "\n",
    "k = 85 положительных исходов\n",
    "\n",
    "p = 0.8 вероятность попадания в мишень\n",
    "\n",
    "q = 1 - 0.8 = 0.2\n",
    "\n",
    "$$ P_{100}(k = 85) = C_{100}^{85} \\cdot 0.8^{85} \\cdot 0.2^{15} = \\frac{100!}{85! \\cdot 15!} \\cdot 0.8^{85} \\cdot 0.2^{15} $$"
   ]
  },
  {
   "cell_type": "code",
   "execution_count": 63,
   "id": "633df187",
   "metadata": {},
   "outputs": [
    {
     "data": {
      "text/plain": [
       "0.048061793700746355"
      ]
     },
     "execution_count": 63,
     "metadata": {},
     "output_type": "execute_result"
    }
   ],
   "source": [
    "bernulli(100,85,0.8)"
   ]
  },
  {
   "cell_type": "markdown",
   "id": "d7ef8b48",
   "metadata": {},
   "source": [
    "**2. Вероятность того, что лампочка перегорит в течение первого дня эксплуатации, равна 0.0004. В жилом комплексе после ремонта в один день включили 5000 новых лампочек.**"
   ]
  },
  {
   "cell_type": "markdown",
   "id": "fa8aba8d",
   "metadata": {},
   "source": [
    "Вероятность того, что лампочка перегорит в течение первого дня очень и очень мала, поэтому обратимся к формуле Пуассона:\n",
    "\n",
    "$$P_m \\approx \\frac{\\lambda^m}{m!}e^{-\\lambda}$$\n",
    "где λ = 𝑛𝑝\n",
    "\n",
    "n = 5000\n",
    "\n",
    "p = 0.0004"
   ]
  },
  {
   "cell_type": "markdown",
   "id": "f2540c32",
   "metadata": {},
   "source": [
    "**2.1. Какова вероятность, что ни одна из них не перегорит в первый день?**"
   ]
  },
  {
   "cell_type": "markdown",
   "id": "a2c62349",
   "metadata": {},
   "source": [
    "В этом случае m = 0"
   ]
  },
  {
   "cell_type": "code",
   "execution_count": 53,
   "id": "797a8f0c",
   "metadata": {},
   "outputs": [
    {
     "data": {
      "text/plain": [
       "0.1353352832366127"
      ]
     },
     "execution_count": 53,
     "metadata": {},
     "output_type": "execute_result"
    }
   ],
   "source": [
    "puasson(5000, 0, 0.0004)"
   ]
  },
  {
   "cell_type": "markdown",
   "id": "6167fd30",
   "metadata": {},
   "source": [
    "**2.2. Какова вероятность, что перегорят ровно две?**"
   ]
  },
  {
   "cell_type": "markdown",
   "id": "60636135",
   "metadata": {},
   "source": [
    "В этом случае m = 2"
   ]
  },
  {
   "cell_type": "code",
   "execution_count": 54,
   "id": "e971f91a",
   "metadata": {},
   "outputs": [
    {
     "data": {
      "text/plain": [
       "0.2706705664732254"
      ]
     },
     "execution_count": 54,
     "metadata": {},
     "output_type": "execute_result"
    }
   ],
   "source": [
    "puasson(5000, 2, 0.0004)"
   ]
  },
  {
   "cell_type": "markdown",
   "id": "5dddd4d0",
   "metadata": {},
   "source": [
    "**3. Монету подбросили 144 раза. Какова вероятность, что орел выпадет ровно 70 раз?**"
   ]
  },
  {
   "cell_type": "markdown",
   "id": "1ad0318b",
   "metadata": {},
   "source": [
    "Имеем:\n",
    "\n",
    "n = 144 независимых испытаний\n",
    "\n",
    "k = 70 положительных исходов\n",
    "\n",
    "p = 0.5 вероятность положительного исхода\n",
    "\n",
    "q = 1 - 0.5 = 0.5\n",
    "\n",
    "$$p_{144}(k=70) = C_n^kp^kq^{n-k} = C_{144}^{70}p^{70}q^{74} = \\frac{144!}{70! \\cdot 74!} \\cdot 0.5^{70} \\cdot 0.5^{74} $$"
   ]
  },
  {
   "cell_type": "code",
   "execution_count": 55,
   "id": "683a2d2a",
   "metadata": {},
   "outputs": [
    {
     "data": {
      "text/plain": [
       "0.06281178035144776"
      ]
     },
     "execution_count": 55,
     "metadata": {},
     "output_type": "execute_result"
    }
   ],
   "source": [
    "bernulli(144,70,0.5)"
   ]
  },
  {
   "cell_type": "markdown",
   "id": "cb4eefca",
   "metadata": {},
   "source": [
    "**4. В первом ящике находится 10 мячей, из которых 7 - белые. Во втором ящике - 11 мячей, из которых 9 белых. Из каждого ящика вытаскивают случайным образом по два мяча.**"
   ]
  },
  {
   "cell_type": "markdown",
   "id": "0f3f039e",
   "metadata": {},
   "source": [
    "Имеем 9 вариаций с белыми мячами из двух ящиков: 3 варианта из первого ящика, когда белых мячей 0, 1 или 2 из двух изъятых мячей, на 3 точно таких же варианта из второго ящика:"
   ]
  },
  {
   "cell_type": "markdown",
   "id": "e732ea78",
   "metadata": {},
   "source": [
    "\n",
    "<table>\n",
    "    <tr>\n",
    "        <td></td>\n",
    "        <td>1 вариант</td><td bgcolor=\"gray\">2 вариант</td><td bgcolor=\"orange\">3 вариант</td>\n",
    "        <td bgcolor=\"gray\">4 вариант</td><td bgcolor=\"orange\">5 вариант</td><td>6 вариант</td>\n",
    "        <td bgcolor=\"orange\">7 вариант</td><td>8 вариант</td><td bgcolor=\"lightgreen\">9 вариант</td>\n",
    "    </tr>\n",
    "    <tr>\n",
    "        <td>1-й ящик (7/10)</td>\n",
    "        <td>0</td>\n",
    "        <td bgcolor=\"gray\">0</td>\n",
    "        <td bgcolor=\"orange\">0</td>\n",
    "        <td bgcolor=\"gray\">1</td>\n",
    "        <td bgcolor=\"orange\">1</td>\n",
    "        <td>1</td>\n",
    "        <td bgcolor=\"orange\">2</td>\n",
    "        <td>2</td>\n",
    "        <td bgcolor=\"lightgreen\">2</td>\n",
    "    </tr>\n",
    "    <tr>\n",
    "        <td>2-й ящик (9/11)</td>\n",
    "        <td>0</td>\n",
    "        <td bgcolor=\"gray\">1</td>\n",
    "        <td bgcolor=\"orange\">2</td>\n",
    "        <td bgcolor=\"gray\">0</td>\n",
    "        <td bgcolor=\"orange\">1</td>\n",
    "        <td>2</td>\n",
    "        <td bgcolor=\"orange\">0</td>\n",
    "        <td>1</td>\n",
    "        <td bgcolor=\"lightgreen\">2</td>\n",
    "    </tr>\n",
    "</table>"
   ]
  },
  {
   "cell_type": "markdown",
   "id": "793da328",
   "metadata": {},
   "source": [
    "**4.1. Какова вероятность того, что все мячи белые?**"
   ]
  },
  {
   "cell_type": "markdown",
   "id": "fb52cfe8",
   "metadata": {},
   "source": [
    "Количество всевозможных сочетаний выемки по два мяча из двух ящиков:"
   ]
  },
  {
   "cell_type": "code",
   "execution_count": 56,
   "id": "ac632009",
   "metadata": {},
   "outputs": [
    {
     "data": {
      "text/plain": [
       "6600"
      ]
     },
     "execution_count": 56,
     "metadata": {},
     "output_type": "execute_result"
    }
   ],
   "source": [
    "combinations(10, 7) * combinations(11, 9)"
   ]
  },
  {
   "cell_type": "markdown",
   "id": "40977002",
   "metadata": {},
   "source": [
    "Чтобы все 4 мяча были белые, необходимо, чтобы 2 мяча из первого ящика и 2 мяча из второго ящика были белыми. В первом ящике у нас 7 белых мячей, т.е. надо достать 2 белых мяча из 7. Во втором -- 2 из 9 сочетаний. А вместе два ящика дают 756 сочетаний выемки по 2 белых мяча из двух ящиков:"
   ]
  },
  {
   "cell_type": "code",
   "execution_count": 57,
   "id": "1c2efae3",
   "metadata": {},
   "outputs": [
    {
     "data": {
      "text/plain": [
       "756"
      ]
     },
     "execution_count": 57,
     "metadata": {},
     "output_type": "execute_result"
    }
   ],
   "source": [
    "combinations(7, 2) * combinations(9, 2)"
   ]
  },
  {
   "cell_type": "markdown",
   "id": "8fe2a72f",
   "metadata": {},
   "source": [
    "Осталось найти вероятность, что все мячи будут белыми, исходя из соотношения количества благоприятных сочетаний к количеству всех возможных сочетаний:"
   ]
  },
  {
   "cell_type": "code",
   "execution_count": 58,
   "id": "e01c46c9",
   "metadata": {},
   "outputs": [
    {
     "data": {
      "text/plain": [
       "0.11454545454545455"
      ]
     },
     "execution_count": 58,
     "metadata": {},
     "output_type": "execute_result"
    }
   ],
   "source": [
    "756 / 6600"
   ]
  },
  {
   "cell_type": "markdown",
   "id": "e6649b8f",
   "metadata": {},
   "source": [
    "**4.2. Какова вероятность того, что ровно два мяча белые?**"
   ]
  },
  {
   "cell_type": "markdown",
   "id": "716d8a59",
   "metadata": {},
   "source": [
    "Из таблицы видно, что такое возможно в трех случаях:\n",
    "- или из первого ящика достали 0 белых мячей и из второго 2 белых мяча\n",
    "- или из первого и из второго ящико достали по одному белому мячу\n",
    "- или из первого ящика достали 2 белых мячей и из второго 0 белых мячей\n",
    "\n",
    "Получится 120 сочетаний когда достали ровно два белых мяча:"
   ]
  },
  {
   "cell_type": "code",
   "execution_count": 59,
   "id": "3e709ec9",
   "metadata": {},
   "outputs": [
    {
     "data": {
      "text/plain": [
       "120"
      ]
     },
     "execution_count": 59,
     "metadata": {},
     "output_type": "execute_result"
    }
   ],
   "source": [
    "(combinations(7, 0) * combinations(9, 2)) + \\\n",
    "(combinations(7, 1) * combinations(9, 1)) + \\\n",
    "(combinations(7, 2) * combinations(9, 0))"
   ]
  },
  {
   "cell_type": "markdown",
   "id": "6c4319ec",
   "metadata": {},
   "source": [
    "Как и в первом случае находим вероятность получения ровно двух белых мячей из двух ящиков:"
   ]
  },
  {
   "cell_type": "code",
   "execution_count": 60,
   "id": "e975bbd6",
   "metadata": {},
   "outputs": [
    {
     "data": {
      "text/plain": [
       "0.01818181818181818"
      ]
     },
     "execution_count": 60,
     "metadata": {},
     "output_type": "execute_result"
    }
   ],
   "source": [
    "120 / 6600"
   ]
  },
  {
   "cell_type": "markdown",
   "id": "444129db",
   "metadata": {},
   "source": [
    "**4.3. Какова вероятность того, что хотя бы один мяч белый?**"
   ]
  },
  {
   "cell_type": "markdown",
   "id": "ae29f935",
   "metadata": {},
   "source": [
    "Возможны два варианта:\n",
    "- или из первого ящика достали 1 белый мяч, а из второго -- все небелые мячи достались\n",
    "- или наоборот: из второго ящика достали 1 белый мяч, а из первого -- ни одного белого мяча\n",
    "\n",
    "Следовательно, количество сочетаний когда достали хотя бы один белый мяч будет:"
   ]
  },
  {
   "cell_type": "code",
   "execution_count": 61,
   "id": "edbe5fbc",
   "metadata": {},
   "outputs": [
    {
     "data": {
      "text/plain": [
       "16"
      ]
     },
     "execution_count": 61,
     "metadata": {},
     "output_type": "execute_result"
    }
   ],
   "source": [
    "(combinations(7, 1) * combinations(9, 0)) + (combinations(7, 0) * combinations(9, 1))"
   ]
  },
  {
   "cell_type": "markdown",
   "id": "2d02dc1e",
   "metadata": {},
   "source": [
    "Вероятность, что хотя бы один мяч будет белым:"
   ]
  },
  {
   "cell_type": "code",
   "execution_count": 62,
   "id": "1a29703d",
   "metadata": {},
   "outputs": [
    {
     "data": {
      "text/plain": [
       "0.0024242424242424242"
      ]
     },
     "execution_count": 62,
     "metadata": {},
     "output_type": "execute_result"
    }
   ],
   "source": [
    "16 / 6600"
   ]
  }
 ],
 "metadata": {
  "kernelspec": {
   "display_name": "Python 3 (ipykernel)",
   "language": "python",
   "name": "python3"
  },
  "language_info": {
   "codemirror_mode": {
    "name": "ipython",
    "version": 3
   },
   "file_extension": ".py",
   "mimetype": "text/x-python",
   "name": "python",
   "nbconvert_exporter": "python",
   "pygments_lexer": "ipython3",
   "version": "3.9.12"
  }
 },
 "nbformat": 4,
 "nbformat_minor": 5
}
