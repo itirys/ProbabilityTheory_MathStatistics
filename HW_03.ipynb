{
 "cells": [
  {
   "cell_type": "code",
   "execution_count": 6,
   "id": "cb0053d9",
   "metadata": {},
   "outputs": [],
   "source": [
    "import numpy as np\n",
    "import pandas as pd\n",
    "\n",
    "import matplotlib.pyplot as plt\n",
    "\n",
    "from math import factorial\n",
    "\n",
    "# Сочетания\n",
    "def combinations(n, k):\n",
    "    return int(factorial(n) / (factorial(k) * factorial(n - k)))\n",
    "\n",
    "# Формула Бернулли\n",
    "def bernulli(n,k,p):\n",
    "    return (combinations(n,k) * (p ** k) * ((1 - p) ** (n - k)))\n",
    "\n",
    "# Формула Пуассона\n",
    "def puasson(n,m,p):\n",
    "    lambda_ = n * p\n",
    "    return (lambda_ ** m / factorial(m)) * np.exp(-lambda_)\n",
    "\n",
    "import warnings\n",
    "warnings.filterwarnings('ignore')"
   ]
  },
  {
   "cell_type": "markdown",
   "id": "261b167b",
   "metadata": {},
   "source": [
    "### № 1"
   ]
  },
  {
   "cell_type": "markdown",
   "id": "3a7ef891",
   "metadata": {},
   "source": [
    "**Даны значения зарплат из выборки выпускников: 100, 80, 75, 77, 89, 33, 45, 25, 65, 17, 30, 24, 57, 55, 70, 75, 65, 84, 90, 150.**"
   ]
  },
  {
   "cell_type": "code",
   "execution_count": 7,
   "id": "6971f766",
   "metadata": {},
   "outputs": [],
   "source": [
    "salary = [100, 80, 75, 77, 89, 33, 45, 25, 65, 17, 30, 24, 57, 55, 70, 75, 65, 84, 90, 150]"
   ]
  },
  {
   "cell_type": "markdown",
   "id": "009531ab",
   "metadata": {},
   "source": [
    "**Посчитать (желательно без использования статистических методов наподобие std, var, mean) среднее арифметическое:**"
   ]
  },
  {
   "cell_type": "code",
   "execution_count": 8,
   "id": "df24f916",
   "metadata": {},
   "outputs": [
    {
     "data": {
      "text/plain": [
       "65.3"
      ]
     },
     "execution_count": 8,
     "metadata": {},
     "output_type": "execute_result"
    }
   ],
   "source": [
    "mean = np.sum(salary) / len(salary)\n",
    "mean"
   ]
  },
  {
   "cell_type": "markdown",
   "id": "5fb419bb",
   "metadata": {},
   "source": [
    "проверка:"
   ]
  },
  {
   "cell_type": "code",
   "execution_count": 9,
   "id": "a2d3f92b",
   "metadata": {},
   "outputs": [
    {
     "data": {
      "text/plain": [
       "65.3"
      ]
     },
     "execution_count": 9,
     "metadata": {},
     "output_type": "execute_result"
    }
   ],
   "source": [
    "np.mean(salary)"
   ]
  },
  {
   "cell_type": "markdown",
   "id": "a97bda1a",
   "metadata": {},
   "source": [
    "**среднее квадратичное отклонение:**"
   ]
  },
  {
   "cell_type": "code",
   "execution_count": 10,
   "id": "f73666c3",
   "metadata": {},
   "outputs": [
    {
     "data": {
      "text/plain": [
       "30.823854398825596"
      ]
     },
     "execution_count": 10,
     "metadata": {},
     "output_type": "execute_result"
    }
   ],
   "source": [
    "disp = 0\n",
    "for numb in salary:\n",
    "    disp += (numb - mean) ** 2\n",
    "std = np.sqrt(disp / len(salary))\n",
    "std"
   ]
  },
  {
   "cell_type": "markdown",
   "id": "c2460e00",
   "metadata": {},
   "source": [
    "проверка"
   ]
  },
  {
   "cell_type": "code",
   "execution_count": 11,
   "id": "ffaf8061",
   "metadata": {},
   "outputs": [
    {
     "data": {
      "text/plain": [
       "30.823854398825596"
      ]
     },
     "execution_count": 11,
     "metadata": {},
     "output_type": "execute_result"
    }
   ],
   "source": [
    "np.std(salary)"
   ]
  },
  {
   "cell_type": "markdown",
   "id": "ead45aa4",
   "metadata": {},
   "source": [
    "**смещенную и несмещенную оценки дисперсий для данной выборки:**"
   ]
  },
  {
   "cell_type": "code",
   "execution_count": 12,
   "id": "5f2dce5b",
   "metadata": {},
   "outputs": [
    {
     "name": "stdout",
     "output_type": "stream",
     "text": [
      "несмещенная: 950.11\n",
      "смещенная: 1055.677777777778\n"
     ]
    }
   ],
   "source": [
    "print(f'несмещенная: {disp / len(salary)}\\nсмещенная: {disp / (len(salary) - 2)}')"
   ]
  },
  {
   "cell_type": "markdown",
   "id": "6dbf709e",
   "metadata": {},
   "source": [
    "проверка:"
   ]
  },
  {
   "cell_type": "code",
   "execution_count": 13,
   "id": "a07105b6",
   "metadata": {},
   "outputs": [
    {
     "name": "stdout",
     "output_type": "stream",
     "text": [
      "несмещенная: 950.1100000000001\n",
      "смещенная: 1055.6777777777777\n"
     ]
    }
   ],
   "source": [
    "df_s = pd.DataFrame(salary)\n",
    "\n",
    "print(f'несмещенная: {df_s.var(ddof=0)[0]}\\nсмещенная: {df_s.var(ddof=2)[0]}')"
   ]
  },
  {
   "cell_type": "markdown",
   "id": "a128c893",
   "metadata": {},
   "source": [
    "**Сделать графическую интерпретацию данных, проанализовать выбросы...**"
   ]
  },
  {
   "cell_type": "code",
   "execution_count": 14,
   "id": "205f317c",
   "metadata": {},
   "outputs": [
    {
     "data": {
      "image/png": "[encoded data removed]",
      "text/plain": [
       "<Figure size 432x288 with 1 Axes>"
      ]
     },
     "metadata": {
      "needs_background": "light"
     },
     "output_type": "display_data"
    }
   ],
   "source": [
    "plt.hist(salary, bins=20)\n",
    "plt.show()"
   ]
  },
  {
   "cell_type": "markdown",
   "id": "5e833dd5",
   "metadata": {},
   "source": [
    "Распределение значений не симметричное. Вырисовываются группы значений: \n",
    "- 17--33\n",
    "- 45--65\n",
    "- 70--90\n",
    "- 100\n",
    "- 150 (выброс)\n",
    "Можно предположить, что это группы по специальностям.\n",
    "Максимальная зарплата выпускников -- 100 у.е. Минимальная -- 17 у.е.\n",
    "Но выборка маленькая, так что это все только предположения."
   ]
  },
  {
   "cell_type": "code",
   "execution_count": 15,
   "id": "7af93d1b",
   "metadata": {},
   "outputs": [
    {
     "data": {
      "image/png": "[encoded data removed]",
      "text/plain": [
       "<Figure size 432x288 with 1 Axes>"
      ]
     },
     "metadata": {
      "needs_background": "light"
     },
     "output_type": "display_data"
    }
   ],
   "source": [
    "plt.boxplot(salary, widths=0.1)\n",
    "plt.show()"
   ]
  },
  {
   "cell_type": "markdown",
   "id": "40466660",
   "metadata": {},
   "source": [
    "На графике медиана проходит не по середине прямоугольника, т.е. снизу от медианы присутствует больше значений, чем сверху от нее. Следовательно, в данной выборке большинство выпускников получают зарплату менее 70 у.е.\n",
    "\n",
    "Выбросов по минимальным значениям нет, а по максимумам -- все что больше 100 у.е. либо ошибочные данные, либо недостоверно из-за малой выборки."
   ]
  },
  {
   "cell_type": "code",
   "execution_count": 16,
   "id": "7b284dcd",
   "metadata": {},
   "outputs": [
    {
     "data": {
      "text/plain": [
       "array([ 17,  24,  25,  30,  33,  45,  55,  57,  65,  65,  70,  75,  75,\n",
       "        77,  80,  84,  89,  90, 100, 150])"
      ]
     },
     "execution_count": 16,
     "metadata": {},
     "output_type": "execute_result"
    }
   ],
   "source": [
    "salary_sort = np.sort(salary)\n",
    "salary_sort"
   ]
  },
  {
   "cell_type": "code",
   "execution_count": 17,
   "id": "8fc4cc4b",
   "metadata": {},
   "outputs": [
    {
     "data": {
      "text/plain": [
       "20"
      ]
     },
     "execution_count": 17,
     "metadata": {},
     "output_type": "execute_result"
    }
   ],
   "source": [
    "lenght = len(salary)\n",
    "lenght"
   ]
  },
  {
   "cell_type": "markdown",
   "id": "ba560429",
   "metadata": {},
   "source": [
    "**Медиана:**"
   ]
  },
  {
   "cell_type": "markdown",
   "id": "4c7a8498",
   "metadata": {},
   "source": [
    "В выборке четное количество элементов, следовательно будет 2 элемента по середине выборки, а медиана соответственно -- среднее от этих элементов."
   ]
  },
  {
   "cell_type": "code",
   "execution_count": 18,
   "id": "f0e66ecb",
   "metadata": {},
   "outputs": [
    {
     "data": {
      "text/plain": [
       "67.5"
      ]
     },
     "execution_count": 18,
     "metadata": {},
     "output_type": "execute_result"
    }
   ],
   "source": [
    "(salary_sort[int(lenght / 2)] + salary_sort[int(lenght / 2) - 1]) / 2"
   ]
  },
  {
   "cell_type": "markdown",
   "id": "809a0e64",
   "metadata": {},
   "source": [
    "проверка:"
   ]
  },
  {
   "cell_type": "code",
   "execution_count": 19,
   "id": "d255d58f",
   "metadata": {},
   "outputs": [
    {
     "data": {
      "text/plain": [
       "67.5"
      ]
     },
     "execution_count": 19,
     "metadata": {},
     "output_type": "execute_result"
    }
   ],
   "source": [
    "df_s.median()[0]"
   ]
  },
  {
   "cell_type": "markdown",
   "id": "405b3728",
   "metadata": {},
   "source": [
    "**Мода:**"
   ]
  },
  {
   "cell_type": "code",
   "execution_count": 20,
   "id": "48adaaea",
   "metadata": {},
   "outputs": [
    {
     "data": {
      "text/plain": [
       "[75, 65]"
      ]
     },
     "execution_count": 20,
     "metadata": {},
     "output_type": "execute_result"
    }
   ],
   "source": [
    "count_numb = {}\n",
    "for numb in salary:\n",
    "    count_numb[numb] = (count_numb[numb] + 1) if numb in count_numb.keys() else 1\n",
    "\n",
    "moda = []\n",
    "for k, v in count_numb.items():\n",
    "    if v == max(count_numb.values()):\n",
    "        moda.append(k)\n",
    "moda"
   ]
  },
  {
   "cell_type": "markdown",
   "id": "ec2fc832",
   "metadata": {},
   "source": [
    "проверка:"
   ]
  },
  {
   "cell_type": "code",
   "execution_count": 22,
   "id": "f782d4df",
   "metadata": {},
   "outputs": [
    {
     "data": {
      "text/plain": [
       "[65, 75]"
      ]
     },
     "execution_count": 22,
     "metadata": {},
     "output_type": "execute_result"
    }
   ],
   "source": [
    "df_s.mode()[0].tolist()"
   ]
  },
  {
   "cell_type": "markdown",
   "id": "97d6b941",
   "metadata": {},
   "source": [
    "т.е. выборка **мультимодальная**"
   ]
  },
  {
   "cell_type": "markdown",
   "id": "dd82c528",
   "metadata": {},
   "source": [
    "**...посчитать квартили и интерквартильное расстояние**"
   ]
  },
  {
   "cell_type": "code",
   "execution_count": 23,
   "id": "7a3d449b",
   "metadata": {},
   "outputs": [
    {
     "data": {
      "text/plain": [
       "[42.0, 81.0]"
      ]
     },
     "execution_count": 23,
     "metadata": {},
     "output_type": "execute_result"
    }
   ],
   "source": [
    "df_s.quantile([0.25, 0.75])[0].tolist()"
   ]
  },
  {
   "cell_type": "code",
   "execution_count": 24,
   "id": "1467c518",
   "metadata": {},
   "outputs": [
    {
     "data": {
      "text/plain": [
       "39"
      ]
     },
     "execution_count": 24,
     "metadata": {},
     "output_type": "execute_result"
    }
   ],
   "source": [
    "81 - 42"
   ]
  },
  {
   "cell_type": "markdown",
   "id": "213f4952",
   "metadata": {},
   "source": [
    "### № 2"
   ]
  },
  {
   "cell_type": "markdown",
   "id": "195d9dac",
   "metadata": {},
   "source": [
    "**В первом ящике находится 8 мячей, из которых 5 - белые. Во втором ящике - 12 мячей, из которых 5 белых. Из первого ящика вытаскивают случайным образом два мяча, из второго - 4. Какова вероятность того, что 3 мяча белые?**"
   ]
  },
  {
   "cell_type": "markdown",
   "id": "2499ae1b",
   "metadata": {},
   "source": [
    "Имеем 2 * 4 = 8 вариантов сочетания мячей из двух ящиков, из которых нас интересуют:\n",
    "- 0 белых мячей из первого ящика и 3 белых мяча из второго"
   ]
  },
  {
   "cell_type": "code",
   "execution_count": 25,
   "id": "b8dadd64",
   "metadata": {},
   "outputs": [
    {
     "data": {
      "text/plain": [
       "10"
      ]
     },
     "execution_count": 25,
     "metadata": {},
     "output_type": "execute_result"
    }
   ],
   "source": [
    "combinations(5, 0) * combinations(5, 3)"
   ]
  },
  {
   "cell_type": "markdown",
   "id": "51575402",
   "metadata": {},
   "source": [
    "- 1 белый мяч из первого и 2 -- из второго"
   ]
  },
  {
   "cell_type": "code",
   "execution_count": 26,
   "id": "25c4cec0",
   "metadata": {},
   "outputs": [
    {
     "data": {
      "text/plain": [
       "50"
      ]
     },
     "execution_count": 26,
     "metadata": {},
     "output_type": "execute_result"
    }
   ],
   "source": [
    "combinations(5, 1) * combinations(5, 2)"
   ]
  },
  {
   "cell_type": "markdown",
   "id": "b7934db6",
   "metadata": {},
   "source": [
    "- 2 белых мяча из первого и 1 -- из второго"
   ]
  },
  {
   "cell_type": "code",
   "execution_count": 27,
   "id": "35602ecc",
   "metadata": {},
   "outputs": [
    {
     "data": {
      "text/plain": [
       "50"
      ]
     },
     "execution_count": 27,
     "metadata": {},
     "output_type": "execute_result"
    }
   ],
   "source": [
    "combinations(5, 2) * combinations(5, 1)"
   ]
  },
  {
   "cell_type": "markdown",
   "id": "7e9155c8",
   "metadata": {},
   "source": [
    "Всего сочетаний вытаскивания мячей из двух ящиков:"
   ]
  },
  {
   "cell_type": "code",
   "execution_count": 28,
   "id": "1ffb9962",
   "metadata": {},
   "outputs": [
    {
     "data": {
      "text/plain": [
       "13860"
      ]
     },
     "execution_count": 28,
     "metadata": {},
     "output_type": "execute_result"
    }
   ],
   "source": [
    "combinations(8, 2) * combinations(12, 4)"
   ]
  },
  {
   "cell_type": "code",
   "execution_count": 29,
   "id": "2082993e",
   "metadata": {},
   "outputs": [
    {
     "data": {
      "text/plain": [
       "0.007936507936507936"
      ]
     },
     "execution_count": 29,
     "metadata": {},
     "output_type": "execute_result"
    }
   ],
   "source": [
    "(10 + 50 + 50) / 13860"
   ]
  },
  {
   "cell_type": "markdown",
   "id": "09bd4cbb",
   "metadata": {},
   "source": [
    "### № 3"
   ]
  },
  {
   "cell_type": "markdown",
   "id": "1b7066ad",
   "metadata": {},
   "source": [
    "**В университет на факультеты A и B поступило равное количество студентов, а на факультет C студентов поступило столько же, сколько на A и B вместе. Вероятность того, что студент факультета A сдаст первую сессию, равна 0.8. Для студента факультета B эта вероятность равна 0.7, а для студента факультета C - 0.9. Студент сдал первую сессию. Какова вероятность, что он учится: a). на факультете A б). на факультете B в). на факультете C?**"
   ]
  },
  {
   "cell_type": "markdown",
   "id": "3a135da7",
   "metadata": {},
   "source": [
    "Дано:<br><ul style=\"list-style-type: none;\">\n",
    "    <li>A == B</li>\n",
    "    <li>C = A + B</li>\n",
    "    <li>A -- 0.8</li>\n",
    "    <li>B -- 0.7</li>\n",
    "    <li>C -- 0.9</li></ul>\n",
    "\n",
    "Пусть студентов, поступивших на факультет А и В, будет по х, тогда<br>\n",
    "х + х + 2х = 1 => <br>\n",
    "x = 1/4 => вероятность сдачи сессии одним из студентов из любого факультета будет:<br>"
   ]
  },
  {
   "cell_type": "code",
   "execution_count": 31,
   "id": "ae327718",
   "metadata": {},
   "outputs": [
    {
     "data": {
      "text/plain": [
       "0.825"
      ]
     },
     "execution_count": 31,
     "metadata": {},
     "output_type": "execute_result"
    }
   ],
   "source": [
    "1/4 * 0.8 + 1/4 * 0.7 + 1/2 * 0.9"
   ]
  },
  {
   "cell_type": "markdown",
   "id": "94aeb213",
   "metadata": {},
   "source": [
    "вероятность, что студент, сдавший сессию, учится на факультете А:"
   ]
  },
  {
   "cell_type": "code",
   "execution_count": 32,
   "id": "d5c11aba",
   "metadata": {},
   "outputs": [
    {
     "data": {
      "text/plain": [
       "0.24242424242424246"
      ]
     },
     "execution_count": 32,
     "metadata": {},
     "output_type": "execute_result"
    }
   ],
   "source": [
    "1/4 * 0.8 / 0.825"
   ]
  },
  {
   "cell_type": "markdown",
   "id": "733438d8",
   "metadata": {},
   "source": [
    "на факультете В:"
   ]
  },
  {
   "cell_type": "code",
   "execution_count": 33,
   "id": "09e4d256",
   "metadata": {},
   "outputs": [
    {
     "data": {
      "text/plain": [
       "0.21212121212121213"
      ]
     },
     "execution_count": 33,
     "metadata": {},
     "output_type": "execute_result"
    }
   ],
   "source": [
    "1/4 * 0.7 / 0.825"
   ]
  },
  {
   "cell_type": "markdown",
   "id": "bdf6104c",
   "metadata": {},
   "source": [
    "на факультете С:"
   ]
  },
  {
   "cell_type": "code",
   "execution_count": 34,
   "id": "ac0012f2",
   "metadata": {},
   "outputs": [
    {
     "data": {
      "text/plain": [
       "0.5454545454545455"
      ]
     },
     "execution_count": 34,
     "metadata": {},
     "output_type": "execute_result"
    }
   ],
   "source": [
    "1/2 * 0.9 / 0.825"
   ]
  },
  {
   "cell_type": "markdown",
   "id": "ea290198",
   "metadata": {},
   "source": [
    "### № 4"
   ]
  },
  {
   "cell_type": "markdown",
   "id": "288b6209",
   "metadata": {},
   "source": [
    "**Устройство состоит из трех деталей. Для первой детали вероятность выйти из строя в первый месяц равна 0.1, для второй - 0.2, для третьей - 0.25. Какова вероятность того, что в первый месяц выйдут из строя: а). все детали б). только две детали в). хотя бы одна деталь г). от одной до двух деталей?**"
   ]
  },
  {
   "cell_type": "markdown",
   "id": "1d7300fa",
   "metadata": {},
   "source": [
    "**а). все детали:**"
   ]
  },
  {
   "cell_type": "code",
   "execution_count": 35,
   "id": "ba204c4a",
   "metadata": {},
   "outputs": [
    {
     "data": {
      "text/plain": [
       "0.005000000000000001"
      ]
     },
     "execution_count": 35,
     "metadata": {},
     "output_type": "execute_result"
    }
   ],
   "source": [
    "0.1 * 0.2 * 0.25"
   ]
  },
  {
   "cell_type": "markdown",
   "id": "9122d01a",
   "metadata": {},
   "source": [
    "**б). только две детали**\n",
    "\n",
    "Имеем три варианта развития событий:\n",
    "<table>\n",
    "    <tr><td>№ детали</td><td colspan=3></tr>\n",
    "    <tr><td>1</td><td>+</td><td>+</td><td>-</td></tr>\n",
    "    <tr><td>2</td><td>+</td><td>-</td><td>+</td></tr>\n",
    "    <tr><td>3</td><td>-</td><td>+</td><td>+</td></tr>\n",
    "</table>\n",
    "Т.е. для первого варианта: первая (0.1) и вторая (0.2) детали выходят из строя и при этом третья деталь не выходит из строя, следовательно (1 - 0.25 = 0.75). Точно также считаем и для остальных двух вариантов развития события, в итоге получится:"
   ]
  },
  {
   "cell_type": "code",
   "execution_count": 36,
   "id": "4d7ee5c7",
   "metadata": {},
   "outputs": [
    {
     "data": {
      "text/plain": [
       "0.08000000000000002"
      ]
     },
     "execution_count": 36,
     "metadata": {},
     "output_type": "execute_result"
    }
   ],
   "source": [
    "0.1 * 0.2 * 0.75 + 0.1 * 0.25 * 0.8 + 0.2 * 0.25 * 0.9"
   ]
  },
  {
   "cell_type": "markdown",
   "id": "1c29a153",
   "metadata": {},
   "source": [
    "**в). хотя бы одна деталь**\n",
    "\n",
    "Когда только одна деталь из трех выходит из строя имеет 3 варинта развития событий:\n",
    "\n",
    "<table>\n",
    "    <tr><td>1</td><td>+</td><td>-</td><td>-</td></tr>\n",
    "    <tr><td>2</td><td>-</td><td>+</td><td>-</td></tr>\n",
    "    <tr><td>3</td><td>-</td><td>-</td><td>+</td></tr>\n",
    "</table>"
   ]
  },
  {
   "cell_type": "code",
   "execution_count": 37,
   "id": "2035b23a",
   "metadata": {},
   "outputs": [
    {
     "data": {
      "text/plain": [
       "0.375"
      ]
     },
     "execution_count": 37,
     "metadata": {},
     "output_type": "execute_result"
    }
   ],
   "source": [
    "0.1 * 0.8 * 0.75 + 0.2 * 0.9 * 0.75 + 0.25 * 0.9 * 0.8"
   ]
  },
  {
   "cell_type": "markdown",
   "id": "0d23a9b7",
   "metadata": {},
   "source": [
    "Варианты, когда из строя выходят две детали из трех и когда все три детали выходят из строя, нас тоже интересуют, т.к. это тоже будет относиться к условию \"хотя бы одна деталь\", а значит имеем:"
   ]
  },
  {
   "cell_type": "code",
   "execution_count": 38,
   "id": "e71eb8da",
   "metadata": {},
   "outputs": [
    {
     "data": {
      "text/plain": [
       "0.46"
      ]
     },
     "execution_count": 38,
     "metadata": {},
     "output_type": "execute_result"
    }
   ],
   "source": [
    "0.1 * 0.8 * 0.75 + 0.2 * 0.9 * 0.75 + 0.25 * 0.9 * 0.8 + \\\n",
    "0.1 * 0.2 * 0.75 + 0.1 * 0.25 * 0.8 + 0.2 * 0.25 * 0.9 + \\\n",
    "0.1 * 0.2 * 0.25"
   ]
  },
  {
   "cell_type": "markdown",
   "id": "d0a8d066",
   "metadata": {},
   "source": [
    "г). от одной до двух деталей"
   ]
  },
  {
   "cell_type": "code",
   "execution_count": 39,
   "id": "431b2663",
   "metadata": {},
   "outputs": [
    {
     "data": {
      "text/plain": [
       "0.455"
      ]
     },
     "execution_count": 39,
     "metadata": {},
     "output_type": "execute_result"
    }
   ],
   "source": [
    "0.1 * 0.8 * 0.75 + 0.2 * 0.9 * 0.75 + 0.25 * 0.9 * 0.8 + \\\n",
    "0.1 * 0.2 * 0.75 + 0.1 * 0.25 * 0.8 + 0.2 * 0.25 * 0.9"
   ]
  }
 ],
 "metadata": {
  "kernelspec": {
   "display_name": "Python 3 (ipykernel)",
   "language": "python",
   "name": "python3"
  },
  "language_info": {
   "codemirror_mode": {
    "name": "ipython",
    "version": 3
   },
   "file_extension": ".py",
   "mimetype": "text/x-python",
   "name": "python",
   "nbconvert_exporter": "python",
   "pygments_lexer": "ipython3",
   "version": "3.9.12"
  }
 },
 "nbformat": 4,
 "nbformat_minor": 5
}
