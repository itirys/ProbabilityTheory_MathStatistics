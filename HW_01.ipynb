{
 "cells": [
  {
   "cell_type": "code",
   "execution_count": 47,
   "id": "d80eaedc",
   "metadata": {},
   "outputs": [],
   "source": [
    "from math import factorial\n",
    "\n",
    "# Функция для сочетаний\n",
    "def combinations(n, k):\n",
    "    return int(factorial(n) / (factorial(k) * factorial(n - k)))"
   ]
  },
  {
   "cell_type": "markdown",
   "id": "e3843c42",
   "metadata": {},
   "source": [
    "1. Из колоды в 52 карты извлекаются случайным образом 4 карты. \n",
    "a) Найти вероятность того, что все карты – крести."
   ]
  },
  {
   "cell_type": "markdown",
   "id": "976114ee",
   "metadata": {},
   "source": [
    "В колоде 4 масти, т.е. 52 / 4 = 13 карт, например, крести, т.е. из 13 карт 4 карты случайным образом должны извлечься, при этом порядок не важен, т.е. применяем формулу сочетаний:\n",
    "$$C_{13}^4 = \\frac{13!}{4!(13 - 4)!}$$"
   ]
  },
  {
   "cell_type": "code",
   "execution_count": 48,
   "id": "c4600bcc",
   "metadata": {},
   "outputs": [
    {
     "data": {
      "text/plain": [
       "715"
      ]
     },
     "execution_count": 48,
     "metadata": {},
     "output_type": "execute_result"
    }
   ],
   "source": [
    "combinations(13,4)"
   ]
  },
  {
   "cell_type": "markdown",
   "id": "7dc81336",
   "metadata": {},
   "source": [
    "Но чтобы эти 4 карты определенной масти извлечь из 13 имеющихся в колоде, мы должны из всей колоды выбрать случайным образом эти 4 карты, т.е. опять же применяется формула сочетаний:\n",
    "$$ B_{52}^{4} = \\frac{52!}{4!(52-4)!} $$"
   ]
  },
  {
   "cell_type": "code",
   "execution_count": 49,
   "id": "0802fabf",
   "metadata": {},
   "outputs": [
    {
     "data": {
      "text/plain": [
       "270725"
      ]
     },
     "execution_count": 49,
     "metadata": {},
     "output_type": "execute_result"
    }
   ],
   "source": [
    "combinations(52, 4)"
   ]
  },
  {
   "cell_type": "markdown",
   "id": "d9d8754b",
   "metadata": {},
   "source": [
    "Вероятность того, что мы извлечем из всей колоды 4 карты крестей — это отношение числа элементарных исходов, благоприятствующих данному событию (т.е. из 13 крестей 4 карты извлечь), к числу всех равновозможных исходов опыта, в котором оно может появиться (т.е. из 52 -- 4 карты):"
   ]
  },
  {
   "cell_type": "code",
   "execution_count": 50,
   "id": "1dc900f1",
   "metadata": {},
   "outputs": [
    {
     "data": {
      "text/plain": [
       "0.0026410564225690276"
      ]
     },
     "execution_count": 50,
     "metadata": {},
     "output_type": "execute_result"
    }
   ],
   "source": [
    "combinations(13,4) / combinations(52, 4)"
   ]
  },
  {
   "cell_type": "markdown",
   "id": "fcc80791",
   "metadata": {},
   "source": [
    "б) Найти вероятность, что среди 4-х карт окажется хотя бы один туз."
   ]
  },
  {
   "cell_type": "markdown",
   "id": "8c634374",
   "metadata": {},
   "source": [
    "Число сочетаний из 4 карт 1 туз:\n",
    "$$C_4^1 = \\frac{4!}{1!(4 - 1)!}$$"
   ]
  },
  {
   "cell_type": "code",
   "execution_count": 51,
   "id": "9d306253",
   "metadata": {},
   "outputs": [
    {
     "data": {
      "text/plain": [
       "4"
      ]
     },
     "execution_count": 51,
     "metadata": {},
     "output_type": "execute_result"
    }
   ],
   "source": [
    "combinations(4,1)"
   ]
  },
  {
   "cell_type": "markdown",
   "id": "2e3e8ffc",
   "metadata": {},
   "source": [
    "В колоде 4 туза из 52 карт и одна карта (туз) уже выбрана, значит выбираем из 48 карт 3 карты:\n",
    "$$C_{48}^3 = \\frac{48!}{3!(48 - 1)!}$$"
   ]
  },
  {
   "cell_type": "code",
   "execution_count": 52,
   "id": "7ebe0cb0",
   "metadata": {},
   "outputs": [
    {
     "data": {
      "text/plain": [
       "17296"
      ]
     },
     "execution_count": 52,
     "metadata": {},
     "output_type": "execute_result"
    }
   ],
   "source": [
    "combinations(48,3)"
   ]
  },
  {
   "cell_type": "markdown",
   "id": "eb6e70a6",
   "metadata": {},
   "source": [
    "И число сочетаний когда из 52 карт выбраны 4 карты, 1 из которых туз, будет:"
   ]
  },
  {
   "cell_type": "code",
   "execution_count": 53,
   "id": "c509d699",
   "metadata": {},
   "outputs": [
    {
     "data": {
      "text/plain": [
       "69184"
      ]
     },
     "execution_count": 53,
     "metadata": {},
     "output_type": "execute_result"
    }
   ],
   "source": [
    "combinations(4,1) * combinations(48,3)"
   ]
  },
  {
   "cell_type": "markdown",
   "id": "ecf72b2d",
   "metadata": {},
   "source": [
    "2. На входной двери подъезда установлен кодовый замок, содержащий десять кнопок с цифрами от 0 до 9. Код содержит три цифры, которые нужно нажать одновременно. Какова вероятность того, что человек, не знающий код, откроет дверь с первой попытки?"
   ]
  },
  {
   "cell_type": "markdown",
   "id": "c55cf4d5",
   "metadata": {},
   "source": [
    "Порядок нажатия кнопок неважно, т.к. нажимаются одновременно, значит имеем дело с формулой сочетания из 10 элементов по 3:\n",
    "    $$C_{10}^3 = \\frac{10!}{3!(10 - 1)!}$$"
   ]
  },
  {
   "cell_type": "code",
   "execution_count": 54,
   "id": "a9384eb9",
   "metadata": {},
   "outputs": [
    {
     "data": {
      "text/plain": [
       "120"
      ]
     },
     "execution_count": 54,
     "metadata": {},
     "output_type": "execute_result"
    }
   ],
   "source": [
    "combinations(10,3)"
   ]
  },
  {
   "cell_type": "markdown",
   "id": "b57ee905",
   "metadata": {},
   "source": [
    "Вероятность открыть дверь с первой попытки будет равна:"
   ]
  },
  {
   "cell_type": "code",
   "execution_count": 55,
   "id": "c23847f8",
   "metadata": {},
   "outputs": [
    {
     "data": {
      "text/plain": [
       "0.008333333333333333"
      ]
     },
     "execution_count": 55,
     "metadata": {},
     "output_type": "execute_result"
    }
   ],
   "source": [
    "1 / 120"
   ]
  },
  {
   "cell_type": "markdown",
   "id": "3ee73d30",
   "metadata": {},
   "source": [
    "3. В ящике имеется 15 деталей, из которых 9 окрашены. Рабочий случайным образом извлекает 3 детали. Какова вероятность того, что все извлеченные детали окрашены?"
   ]
  },
  {
   "cell_type": "markdown",
   "id": "a453312c",
   "metadata": {},
   "source": [
    "Тоже имеем дело с сочетанием, т.к. порядок неважен. Сначала применяем формулу из 15 деталей 3 извлекаются, затем высчитываем из 9 деталей -- 3, затем находим отношением между 9 из 3 и 15 из 3."
   ]
  },
  {
   "cell_type": "code",
   "execution_count": 56,
   "id": "bd95d479",
   "metadata": {},
   "outputs": [
    {
     "data": {
      "text/plain": [
       "455"
      ]
     },
     "execution_count": 56,
     "metadata": {},
     "output_type": "execute_result"
    }
   ],
   "source": [
    "combinations(15,3)"
   ]
  },
  {
   "cell_type": "code",
   "execution_count": 57,
   "id": "0152d97b",
   "metadata": {},
   "outputs": [
    {
     "data": {
      "text/plain": [
       "84"
      ]
     },
     "execution_count": 57,
     "metadata": {},
     "output_type": "execute_result"
    }
   ],
   "source": [
    "combinations(9,3)"
   ]
  },
  {
   "cell_type": "code",
   "execution_count": 58,
   "id": "5ce6d229",
   "metadata": {},
   "outputs": [
    {
     "data": {
      "text/plain": [
       "0.18461538461538463"
      ]
     },
     "execution_count": 58,
     "metadata": {},
     "output_type": "execute_result"
    }
   ],
   "source": [
    "84/455"
   ]
  },
  {
   "cell_type": "markdown",
   "id": "ea67af32",
   "metadata": {},
   "source": [
    "4. В лотерее 100 билетов. Из них 2 выигрышных. Какова вероятность того, что 2 приобретенных билета окажутся выигрышными?"
   ]
  },
  {
   "cell_type": "markdown",
   "id": "dcdc0da2",
   "metadata": {},
   "source": [
    "Порядок неважен. Берем сначала из 100 билетов 2\n",
    "$$C_{100}^2 = \\frac{100!}{2!(100 - 1)!}$$"
   ]
  },
  {
   "cell_type": "code",
   "execution_count": 59,
   "id": "9656aa6a",
   "metadata": {},
   "outputs": [
    {
     "data": {
      "text/plain": [
       "4950"
      ]
     },
     "execution_count": 59,
     "metadata": {},
     "output_type": "execute_result"
    }
   ],
   "source": [
    "combinations(100,2)"
   ]
  },
  {
   "cell_type": "markdown",
   "id": "e4f4c8c3",
   "metadata": {},
   "source": [
    "Затем вычисляем 2 билета из 2 выигрышных\n",
    "$$C_{2}^2 = \\frac{2!}{2!(2 - 1)!}$$"
   ]
  },
  {
   "cell_type": "code",
   "execution_count": 60,
   "id": "be1d1219",
   "metadata": {},
   "outputs": [
    {
     "data": {
      "text/plain": [
       "1"
      ]
     },
     "execution_count": 60,
     "metadata": {},
     "output_type": "execute_result"
    }
   ],
   "source": [
    "combinations(2,2)"
   ]
  },
  {
   "cell_type": "markdown",
   "id": "bf35de8c",
   "metadata": {},
   "source": [
    "И теперь вычисляем отношение между ними:"
   ]
  },
  {
   "cell_type": "code",
   "execution_count": 61,
   "id": "61b5306c",
   "metadata": {},
   "outputs": [
    {
     "data": {
      "text/plain": [
       "0.00020202020202020202"
      ]
     },
     "execution_count": 61,
     "metadata": {},
     "output_type": "execute_result"
    }
   ],
   "source": [
    "combinations(2,2) / combinations(100,2)"
   ]
  },
  {
   "cell_type": "markdown",
   "id": "25fbfb04",
   "metadata": {},
   "source": [
    "5. На соревновании по биатлону один из трех спортсменов стреляет и попадает в мишень. Вероятность попадания для первого спортсмена равна 0.9, для второго — 0.8, для третьего — 0.6. Найти вероятность того, что выстрел произведен: a). первым спортсменом "
   ]
  },
  {
   "cell_type": "markdown",
   "id": "aef31641",
   "metadata": {},
   "source": [
    "А -- вероятность попадания в мишень\n",
    "\n",
    "$В_1$ -- вероятность, что выстрел произвел 1-й спортсмен; спортсменов 3 => $P(B_1) = \\frac{1}{3}$\n",
    "\n",
    "$$P(B_1\\:|\\:A) = 0.9$$\n",
    "\n",
    "Для вычисления вероятности того, что стрелял первый спортсмен при условии, что выстрел был удачным, применим формулу Байеса:\n",
    "\n",
    "$$P(B_1\\:|\\:A) = \\frac{P(B_1) \\cdot P(A\\:|\\:B_1)}{P(A)} = \\frac{\\frac{1}{3} \\cdot 0.9}{\\frac{1}{3} \\cdot 0.9 + \\frac{1}{3} \\cdot 0.8 + \\frac{1}{3} \\cdot 0.6} $$"
   ]
  },
  {
   "cell_type": "code",
   "execution_count": 62,
   "id": "c800cb45",
   "metadata": {},
   "outputs": [
    {
     "data": {
      "text/plain": [
       "0.3913043478260869"
      ]
     },
     "execution_count": 62,
     "metadata": {},
     "output_type": "execute_result"
    }
   ],
   "source": [
    "0.9 / (0.9 + 0.8 + 0.6)"
   ]
  },
  {
   "cell_type": "markdown",
   "id": "a9d53142",
   "metadata": {},
   "source": []
  },
  {
   "cell_type": "markdown",
   "id": "2ffe3c30",
   "metadata": {},
   "source": [
    "б). вторым спортсменом "
   ]
  },
  {
   "cell_type": "markdown",
   "id": "cd8f5379",
   "metadata": {},
   "source": [
    "$$P(B_2\\:|\\:A) = \\frac{\\frac{1}{3} \\cdot 0.8}{\\frac{1}{3} \\cdot 0.9 + \\frac{1}{3} \\cdot 0.8 + \\frac{1}{3} \\cdot 0.6}$$"
   ]
  },
  {
   "cell_type": "code",
   "execution_count": 63,
   "id": "f5069061",
   "metadata": {},
   "outputs": [
    {
     "data": {
      "text/plain": [
       "0.34782608695652173"
      ]
     },
     "execution_count": 63,
     "metadata": {},
     "output_type": "execute_result"
    }
   ],
   "source": [
    "0.8 / (0.9 + 0.8 + 0.6)"
   ]
  },
  {
   "cell_type": "markdown",
   "id": "ec4d1344",
   "metadata": {},
   "source": []
  },
  {
   "cell_type": "markdown",
   "id": "bbfce3c8",
   "metadata": {},
   "source": [
    "в). третьим спортсменом."
   ]
  },
  {
   "cell_type": "markdown",
   "id": "cedd3a31",
   "metadata": {},
   "source": [
    "$$P(B_3\\:|\\:A) = \\frac{\\frac{1}{3} \\cdot 0.6}{\\frac{1}{3} \\cdot 0.9 + \\frac{1}{3} \\cdot 0.8 + \\frac{1}{3} \\cdot 0.6}$$"
   ]
  },
  {
   "cell_type": "code",
   "execution_count": 64,
   "id": "43ffa74f",
   "metadata": {},
   "outputs": [
    {
     "data": {
      "text/plain": [
       "0.26086956521739124"
      ]
     },
     "execution_count": 64,
     "metadata": {},
     "output_type": "execute_result"
    }
   ],
   "source": [
    "0.6 / (0.9 + 0.8 + 0.6)"
   ]
  },
  {
   "cell_type": "code",
   "execution_count": null,
   "id": "eb4d4dd9",
   "metadata": {},
   "outputs": [],
   "source": []
  }
 ],
 "metadata": {
  "kernelspec": {
   "display_name": "Python 3 (ipykernel)",
   "language": "python",
   "name": "python3"
  },
  "language_info": {
   "codemirror_mode": {
    "name": "ipython",
    "version": 3
   },
   "file_extension": ".py",
   "mimetype": "text/x-python",
   "name": "python",
   "nbconvert_exporter": "python",
   "pygments_lexer": "ipython3",
   "version": "3.9.12"
  }
 },
 "nbformat": 4,
 "nbformat_minor": 5
}
