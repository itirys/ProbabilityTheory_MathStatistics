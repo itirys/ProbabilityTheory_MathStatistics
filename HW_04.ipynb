{
 "cells": [
  {
   "cell_type": "code",
   "execution_count": 34,
   "id": "08fafb9a",
   "metadata": {},
   "outputs": [],
   "source": [
    "import math\n",
    "from scipy.stats import norm"
   ]
  },
  {
   "cell_type": "markdown",
   "id": "53e967d7",
   "metadata": {},
   "source": [
    "### № 1"
   ]
  },
  {
   "cell_type": "markdown",
   "id": "bcfa2387",
   "metadata": {},
   "source": [
    "Случайная непрерывная величина A имеет равномерное распределение на промежутке (200, 800].\n",
    "Найдите ее среднее значение и дисперсию."
   ]
  },
  {
   "cell_type": "markdown",
   "id": "f873d6a6",
   "metadata": {},
   "source": [
    "среднее значение (мат. ожидание):"
   ]
  },
  {
   "cell_type": "code",
   "execution_count": 35,
   "id": "751f676b",
   "metadata": {},
   "outputs": [
    {
     "data": {
      "text/plain": [
       "500.0"
      ]
     },
     "execution_count": 35,
     "metadata": {},
     "output_type": "execute_result"
    }
   ],
   "source": [
    "(200 + 800) / 2"
   ]
  },
  {
   "cell_type": "markdown",
   "id": "372bc555",
   "metadata": {},
   "source": [
    "дисперсия:"
   ]
  },
  {
   "cell_type": "code",
   "execution_count": 36,
   "id": "115af96b",
   "metadata": {},
   "outputs": [
    {
     "data": {
      "text/plain": [
       "30000.0"
      ]
     },
     "execution_count": 36,
     "metadata": {},
     "output_type": "execute_result"
    }
   ],
   "source": [
    "((800 - 200) ** 2) / 12"
   ]
  },
  {
   "cell_type": "markdown",
   "id": "3b648ea8",
   "metadata": {},
   "source": [
    "### № 2"
   ]
  },
  {
   "cell_type": "markdown",
   "id": "c888cb47",
   "metadata": {},
   "source": [
    "**О случайной непрерывной равномерно распределенной величине B известно, что ее дисперсия равна 0.2.\n",
    "Можно ли найти правую границу величины B и ее среднее значение зная, что левая граница равна 0.5?\n",
    "Если да, найдите ее.**\n",
    "\n",
    "$$ D(X) = \\frac{(b - 0.5)^2}{12} = 0.2 $$\n",
    "\n",
    "$$ b^2 - 2 \\cdot 0.5 \\cdot b + 0.5^2 = 0.2 \\cdot 12 $$\n",
    "\n",
    "Решим квадратное уравнение:\n",
    "\n",
    "$$ b^2 - b + 0.1 = 0 $$\n",
    "\n",
    "$$ D = 1 - 4 \\cdot 1 \\cdot 0.1 = 0.6 $$\n",
    "\n",
    "$$ b_1 = \\frac{1 + \\sqrt{0.6}}{2 \\cdot 1} $$"
   ]
  },
  {
   "cell_type": "code",
   "execution_count": 37,
   "id": "9892a235",
   "metadata": {},
   "outputs": [
    {
     "data": {
      "text/plain": [
       "0.8872983346207417"
      ]
     },
     "execution_count": 37,
     "metadata": {},
     "output_type": "execute_result"
    }
   ],
   "source": [
    "(1 + math.sqrt(0.6)) / 2"
   ]
  },
  {
   "cell_type": "markdown",
   "id": "6ecac8e1",
   "metadata": {},
   "source": [
    "$$ M(X) = \\frac{0.2 + 0.887}{2} $$"
   ]
  },
  {
   "cell_type": "code",
   "execution_count": 38,
   "id": "386a91ee",
   "metadata": {},
   "outputs": [
    {
     "data": {
      "text/plain": [
       "0.5436491673103708"
      ]
     },
     "execution_count": 38,
     "metadata": {},
     "output_type": "execute_result"
    }
   ],
   "source": [
    "(0.2 + (1 + math.sqrt(0.6)) / 2) / 2"
   ]
  },
  {
   "cell_type": "markdown",
   "id": "4baf5009",
   "metadata": {},
   "source": [
    "----------------------"
   ]
  },
  {
   "cell_type": "markdown",
   "id": "112969f3",
   "metadata": {},
   "source": [
    "$$ b_2 = \\frac{1 - \\sqrt{0.6}}{2 \\cdot 1} $$"
   ]
  },
  {
   "cell_type": "code",
   "execution_count": 39,
   "id": "384fc6a8",
   "metadata": {},
   "outputs": [
    {
     "data": {
      "text/plain": [
       "0.1127016653792583"
      ]
     },
     "execution_count": 39,
     "metadata": {},
     "output_type": "execute_result"
    }
   ],
   "source": [
    "(1 - math.sqrt(0.6)) / 2"
   ]
  },
  {
   "cell_type": "markdown",
   "id": "e4d9aa15",
   "metadata": {},
   "source": [
    "не подходит по условию задачи, т.к. левая граница 0.5 должна быть < правой границы"
   ]
  },
  {
   "cell_type": "markdown",
   "id": "40de5cba",
   "metadata": {},
   "source": [
    "### № 3"
   ]
  },
  {
   "cell_type": "markdown",
   "id": "c4978bed",
   "metadata": {},
   "source": [
    "Непрерывная случайная величина X распределена нормально и задана плотностью распределения\n",
    "\n",
    "$$f(x) = \\frac{1}{4 \\sqrt{2 \\pi}} e ^ {- \\frac{(x + 2)^2}{32}}$$\n",
    "\n",
    "\n",
    "Найдите:<br>\n",
    "а). M(X)<br>\n",
    "б). D(X)<br>\n",
    "в). std(X) (среднее квадратичное отклонение)"
   ]
  },
  {
   "cell_type": "markdown",
   "id": "7b24a0f8",
   "metadata": {},
   "source": [
    "Из плотности распределения видно, что:\n",
    "$$ \\sigma = std(X) = 4 $$\n",
    "$$ 𝜎^2 = 𝐷(𝑋) = 16 $$\n",
    "$$ a = 𝑀(𝑋) = -2 $$"
   ]
  },
  {
   "cell_type": "markdown",
   "id": "09fd9687",
   "metadata": {},
   "source": [
    "### № 4"
   ]
  },
  {
   "cell_type": "markdown",
   "id": "ab218fd7",
   "metadata": {},
   "source": [
    "**Рост взрослого населения города X имеет нормальное распределение.\n",
    "Причем, средний рост равен 174 см, а среднее квадратичное отклонение равно 8 см.\n",
    "Какова вероятность того, что случайным образом выбранный взрослый человек имеет рост:\n",
    "а). больше 182 см\n",
    "б). больше 190 см\n",
    "в). от 166 см до 190 см\n",
    "г). от 166 см до 182 см\n",
    "д). от 158 см до 190 см\n",
    "е). не выше 150 см или не ниже 190 см\n",
    "ё). не выше 150 см или не ниже 198 см\n",
    "ж). ниже 166 см.**"
   ]
  },
  {
   "cell_type": "markdown",
   "id": "5fc62fb8",
   "metadata": {},
   "source": [
    "Дано:\n",
    "\n",
    "- M(X) = 174\n",
    "- $ \\sigma = 8 $"
   ]
  },
  {
   "cell_type": "code",
   "execution_count": 40,
   "id": "3f54ab47",
   "metadata": {},
   "outputs": [
    {
     "name": "stdout",
     "output_type": "stream",
     "text": [
      "а). больше 182 см: 0.15865525393145707\n",
      "б). больше 190 см: 0.02275013194817921\n",
      "в). от 166 см до 190 см: 0.8185946141203637\n",
      "г). от 166 см до 182 см: 0.6826894921370859\n",
      "д). от 158 см до 190 см: 0.9544997361036416\n",
      "е). не выше 150 см или не ниже 190 см: 0.0241000299798093\n",
      "ё). не выше 150 см или не ниже 198 см: 0.0026997960632601965\n",
      "ж). ниже 166 см: 0.15865525393145707\n"
     ]
    }
   ],
   "source": [
    "nr = norm(174, 8)\n",
    "\n",
    "print(f'а). больше 182 см: {1 - nr.cdf(182)}\\n' \\\n",
    "      f'б). больше 190 см: {1 - nr.cdf(190)}\\n' \\\n",
    "      f'в). от 166 см до 190 см: {nr.cdf(190) - nr.cdf(166)}\\n' \\\n",
    "      f'г). от 166 см до 182 см: {nr.cdf(182) - nr.cdf(166)}\\n' \\\n",
    "      f'д). от 158 см до 190 см: {nr.cdf(190) - nr.cdf(158)}\\n' \\\n",
    "      f'е). не выше 150 см или не ниже 190 см: {nr.cdf(150) + (1 - nr.cdf(190))}\\n' \\\n",
    "      f'ё). не выше 150 см или не ниже 198 см: {nr.cdf(150) + (1 - nr.cdf(198))}\\n' \\\n",
    "      f'ж). ниже 166 см: {nr.cdf(166)}')"
   ]
  },
  {
   "cell_type": "markdown",
   "id": "30e81f23",
   "metadata": {},
   "source": [
    "### № 5"
   ]
  },
  {
   "cell_type": "markdown",
   "id": "65be228d",
   "metadata": {},
   "source": [
    "На сколько сигм (средних квадратичных отклонений) отклоняется рост человека, равный 190 см, от математического ожидания роста в популяции, в которой M(X) = 178 см и D(X) = 25 кв.см?"
   ]
  },
  {
   "cell_type": "markdown",
   "id": "fd11c76c",
   "metadata": {},
   "source": [
    "$ \\sigma = \\sqrt{D(X)} = 5 $\n",
    "\n",
    "190 - 178 = 12"
   ]
  },
  {
   "cell_type": "code",
   "execution_count": 41,
   "id": "88cae93c",
   "metadata": {},
   "outputs": [
    {
     "data": {
      "text/plain": [
       "2.4"
      ]
     },
     "execution_count": 41,
     "metadata": {},
     "output_type": "execute_result"
    }
   ],
   "source": [
    "12 / 5"
   ]
  }
 ],
 "metadata": {
  "kernelspec": {
   "display_name": "Python 3 (ipykernel)",
   "language": "python",
   "name": "python3"
  },
  "language_info": {
   "codemirror_mode": {
    "name": "ipython",
    "version": 3
   },
   "file_extension": ".py",
   "mimetype": "text/x-python",
   "name": "python",
   "nbconvert_exporter": "python",
   "pygments_lexer": "ipython3",
   "version": "3.9.12"
  }
 },
 "nbformat": 4,
 "nbformat_minor": 5
}
