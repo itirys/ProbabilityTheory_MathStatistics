{
 "cells": [
  {
   "cell_type": "code",
   "execution_count": 24,
   "id": "360d56fb",
   "metadata": {},
   "outputs": [],
   "source": [
    "import math\n",
    "import numpy as np"
   ]
  },
  {
   "cell_type": "markdown",
   "id": "7f84bd01",
   "metadata": {},
   "source": [
    "**1. Известно, что генеральная совокупность распределена нормально со средним квадратическим отклонением, равным 16. Найти доверительный интервал для оценки математического ожидания a с надежностью 0.95, если выборочная средняя M = 80, а объем выборки n = 256.**"
   ]
  },
  {
   "cell_type": "code",
   "execution_count": 31,
   "id": "b0f46ea6",
   "metadata": {},
   "outputs": [
    {
     "data": {
      "text/plain": [
       "(79.5, 80.5)"
      ]
     },
     "execution_count": 31,
     "metadata": {},
     "output_type": "execute_result"
    }
   ],
   "source": [
    "80 - 2 * np.sqrt(16 / 256), 80 + 2 * np.sqrt(16 / 256)"
   ]
  },
  {
   "cell_type": "markdown",
   "id": "ad9c7693",
   "metadata": {},
   "source": []
  },
  {
   "cell_type": "markdown",
   "id": "c15cdb22",
   "metadata": {},
   "source": [
    "**2. В результате 10 независимых измерений некоторой величины X, выполненных с одинаковой точностью, получены опытные данные: 6.9, 6.1, 6.2, 6.8, 7.5, 6.3, 6.4, 6.9, 6.7, 6.1.**\n",
    "\n",
    "**Предполагая, что результаты измерений подчинены нормальному закону распределения вероятностей, оценить истинное значение величины X при помощи доверительного интервала, покрывающего это значение с доверительной вероятностью 0,95.**"
   ]
  },
  {
   "cell_type": "code",
   "execution_count": 32,
   "id": "c9438db5",
   "metadata": {
    "scrolled": true
   },
   "outputs": [
    {
     "data": {
      "text/plain": [
       "(5.0, 8.2)"
      ]
     },
     "execution_count": 32,
     "metadata": {},
     "output_type": "execute_result"
    }
   ],
   "source": [
    "X = np.array([6.9, 6.1, 6.2, 6.8, 7.5, 6.3, 6.4, 6.9, 6.7, 6.1])\n",
    "\n",
    "round((X.mean() - 2 * np.sqrt(X.mean() / 10)), 1), round((X.mean() + 2 * np.sqrt(X.mean() / 10)), 1)"
   ]
  },
  {
   "cell_type": "markdown",
   "id": "e5a75e8e",
   "metadata": {},
   "source": []
  },
  {
   "cell_type": "markdown",
   "id": "5f9b7911",
   "metadata": {},
   "source": [
    "**3. Утверждается, что шарики для подшипников, изготовленные автоматическим станком, имеют средний диаметр 17 мм. Используя односторонний критерий с α=0,05, проверить эту гипотезу, если в выборке из n=100 шариков средний диаметр оказался равным 17.5 мм, а дисперсия известна и равна 4 мм.**"
   ]
  },
  {
   "cell_type": "code",
   "execution_count": 35,
   "id": "a7d7ab3b",
   "metadata": {},
   "outputs": [
    {
     "data": {
      "text/plain": [
       "(17.1, 17.9)"
      ]
     },
     "execution_count": 35,
     "metadata": {},
     "output_type": "execute_result"
    }
   ],
   "source": [
    "17.5 - 2 * np.sqrt(4 / 100), 17.5 + 2 * np.sqrt(4 / 100)"
   ]
  },
  {
   "cell_type": "markdown",
   "id": "57b66bcb",
   "metadata": {},
   "source": [
    "Гипотеза верна"
   ]
  },
  {
   "cell_type": "markdown",
   "id": "58066d62",
   "metadata": {},
   "source": []
  },
  {
   "cell_type": "markdown",
   "id": "0a8276ef",
   "metadata": {},
   "source": [
    "**3. Продавец утверждает, что средний вес пачки печенья составляет 200 г. Из партии извлечена выборка из 10 пачек. Вес каждой пачки составляет: 202, 203, 199, 197, 195, 201, 200, 204, 194, 190. Известно, что их веса распределены нормально. Верно ли утверждение продавца, если учитывать, что доверительная вероятность равна 99%?**"
   ]
  },
  {
   "cell_type": "code",
   "execution_count": 37,
   "id": "e75f0e4d",
   "metadata": {},
   "outputs": [
    {
     "data": {
      "text/plain": [
       "(185.1, 211.9)"
      ]
     },
     "execution_count": 37,
     "metadata": {},
     "output_type": "execute_result"
    }
   ],
   "source": [
    "X = np.array([202, 203, 199, 197, 195, 201, 200, 204, 194, 190])\n",
    "\n",
    "round((X.mean() - 3 * np.sqrt(X.mean() / 10)), 1), round((X.mean() + 3 * np.sqrt(X.mean() / 10)), 1)"
   ]
  },
  {
   "cell_type": "markdown",
   "id": "0921343f",
   "metadata": {},
   "source": [
    "Утверждение верно"
   ]
  }
 ],
 "metadata": {
  "kernelspec": {
   "display_name": "Python 3 (ipykernel)",
   "language": "python",
   "name": "python3"
  },
  "language_info": {
   "codemirror_mode": {
    "name": "ipython",
    "version": 3
   },
   "file_extension": ".py",
   "mimetype": "text/x-python",
   "name": "python",
   "nbconvert_exporter": "python",
   "pygments_lexer": "ipython3",
   "version": "3.9.12"
  }
 },
 "nbformat": 4,
 "nbformat_minor": 5
}
