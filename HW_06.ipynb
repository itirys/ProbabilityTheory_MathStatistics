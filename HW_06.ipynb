{
 "cells": [
  {
   "cell_type": "code",
   "execution_count": 65,
   "id": "4d870630",
   "metadata": {},
   "outputs": [],
   "source": [
    "import math\n",
    "import numpy as np\n",
    "import pandas as pd"
   ]
  },
  {
   "cell_type": "markdown",
   "id": "42a3216c",
   "metadata": {},
   "source": [
    "**1. Даны значения величины заработной платы заемщиков банка (zp) и значения их поведенческого кредитного скоринга (ks):**\n",
    "\n",
    "**zp = [35, 45, 190, 200, 40, 70, 54, 150, 120, 110],**\n",
    "\n",
    "**ks = [401, 574, 874, 919, 459, 739, 653, 902, 746, 832].**\n",
    "\n",
    "**Найдите ковариацию этих двух величин с помощью элементарных действий, а затем с помощью функции cov из numpy\n",
    "Полученные значения должны быть равны.**"
   ]
  },
  {
   "cell_type": "code",
   "execution_count": 66,
   "id": "157f8853",
   "metadata": {},
   "outputs": [
    {
     "data": {
      "text/plain": [
       "10175.37777777778"
      ]
     },
     "execution_count": 66,
     "metadata": {},
     "output_type": "execute_result"
    }
   ],
   "source": [
    "zp = np.array([35, 45, 190, 200, 40, 70, 54, 150, 120, 110])\n",
    "ks = np.array([401, 574, 874, 919, 459, 739, 653, 902, 746, 832])\n",
    "\n",
    "mzp = zp.mean()\n",
    "mks = ks.mean()\n",
    "\n",
    "cov = ((zp - mzp) * (ks - mks)).sum() / (zp.shape[0] - 1)  # несмещённая оценка ковариации\n",
    "cov"
   ]
  },
  {
   "cell_type": "code",
   "execution_count": 67,
   "id": "10c0bf8b",
   "metadata": {},
   "outputs": [
    {
     "data": {
      "text/plain": [
       "10175.377777777778"
      ]
     },
     "execution_count": 67,
     "metadata": {},
     "output_type": "execute_result"
    }
   ],
   "source": [
    "np.cov(zp, ks)[0][1]"
   ]
  },
  {
   "cell_type": "markdown",
   "id": "d5bc295c",
   "metadata": {},
   "source": [
    "**Найдите коэффициент корреляции Пирсона с помощью ковариации и среднеквадратичных отклонений двух признаков,\n",
    "а затем с использованием функций из библиотек numpy и pandas.**"
   ]
  },
  {
   "cell_type": "code",
   "execution_count": 68,
   "id": "4a08c1af",
   "metadata": {},
   "outputs": [
    {
     "data": {
      "text/plain": [
       "0.8874900920739162"
      ]
     },
     "execution_count": 68,
     "metadata": {},
     "output_type": "execute_result"
    }
   ],
   "source": [
    "((zp - mzp) * (ks - mks)).mean() / (zp.std() * ks.std())"
   ]
  },
  {
   "cell_type": "code",
   "execution_count": 69,
   "id": "11c8bc79",
   "metadata": {},
   "outputs": [
    {
     "data": {
      "text/plain": [
       "0.8874900920739163"
      ]
     },
     "execution_count": 69,
     "metadata": {},
     "output_type": "execute_result"
    }
   ],
   "source": [
    "np.corrcoef(zp, ks)[0][1]"
   ]
  },
  {
   "cell_type": "code",
   "execution_count": 70,
   "id": "6fd20a3f",
   "metadata": {},
   "outputs": [
    {
     "data": {
      "text/plain": [
       "0.8874900920739168"
      ]
     },
     "execution_count": 70,
     "metadata": {},
     "output_type": "execute_result"
    }
   ],
   "source": [
    "df = pd.DataFrame({'zp': zp, 'ks': ks})\n",
    "\n",
    "df.corr()['zp']['ks']"
   ]
  },
  {
   "cell_type": "markdown",
   "id": "b8631e64",
   "metadata": {},
   "source": [
    "**2. Измерены значения IQ выборки студентов, обучающихся в местных технических вузах: 131, 125, 115, 122, 131, 115, 107, 99, 125, 111. Известно, что в генеральной совокупности IQ распределен нормально.\n",
    "Найдите доверительный интервал для математического ожидания с надежностью 0.95.**\n",
    "\n",
    "$t_{1 - \\alpha/2, \\: n - 1}$ = 2.2622"
   ]
  },
  {
   "cell_type": "code",
   "execution_count": 71,
   "id": "eb53410d",
   "metadata": {},
   "outputs": [
    {
     "data": {
      "text/plain": [
       "(111, 126)"
      ]
     },
     "execution_count": 71,
     "metadata": {},
     "output_type": "execute_result"
    }
   ],
   "source": [
    "iq = np.array([131, 125, 115, 122, 131, 115, 107, 99, 125, 111])\n",
    "\n",
    "n = iq.shape[0]\n",
    "m = iq.mean()\n",
    "s = iq.std(ddof=1)\n",
    "\n",
    "round((m - 2.2622 * s / np.sqrt(n))), round((m + 2.2622 * s / np.sqrt(n)))"
   ]
  },
  {
   "cell_type": "markdown",
   "id": "c0bfd54e",
   "metadata": {},
   "source": [
    "**3. Известно, что рост футболистов в сборной распределен нормально с дисперсией генеральной совокупности, равной 25 кв.см. Объем выборки равен 27, среднее выборочное составляет 174.2. Найдите доверительный интервал для математического ожидания с надежностью 0.95.**"
   ]
  },
  {
   "cell_type": "code",
   "execution_count": 72,
   "id": "afdf211b",
   "metadata": {},
   "outputs": [
    {
     "data": {
      "text/plain": [
       "(172.3, 176.1)"
      ]
     },
     "execution_count": 72,
     "metadata": {},
     "output_type": "execute_result"
    }
   ],
   "source": [
    "round((174.2 - 2 * np.sqrt(25 / 27)), 1), round((174.2 + 2 * np.sqrt(25 / 27)), 1)"
   ]
  }
 ],
 "metadata": {
  "kernelspec": {
   "display_name": "Python 3 (ipykernel)",
   "language": "python",
   "name": "python3"
  },
  "language_info": {
   "codemirror_mode": {
    "name": "ipython",
    "version": 3
   },
   "file_extension": ".py",
   "mimetype": "text/x-python",
   "name": "python",
   "nbconvert_exporter": "python",
   "pygments_lexer": "ipython3",
   "version": "3.9.12"
  }
 },
 "nbformat": 4,
 "nbformat_minor": 5
}
