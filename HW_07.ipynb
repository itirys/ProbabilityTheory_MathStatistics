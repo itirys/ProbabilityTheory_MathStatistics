{
 "cells": [
  {
   "cell_type": "code",
   "execution_count": 33,
   "id": "825579bc",
   "metadata": {},
   "outputs": [],
   "source": [
    "import numpy as np\n",
    "from scipy import stats\n",
    "from matplotlib import pyplot as plt"
   ]
  },
  {
   "cell_type": "markdown",
   "id": "b2238fe7",
   "metadata": {},
   "source": [
    "### Задание 1\n",
    "**Даны значения величины заработной платы заемщиков банка (salary) и значения их поведенческого кредитного скоринга (scoring):**\n",
    "\n",
    "**salary = [35, 45, 190, 200, 40, 70, 54, 150, 120, 110]**\n",
    "\n",
    "**scoring = [401, 574, 874, 919, 459, 739, 653, 902, 746, 832]**\n",
    "\n",
    "**Возьмём в качестве признака значение salary, а в качестве целевой переменной - scoring.**\n",
    "\n",
    "**Найдите коэффициенты линейной регрессии с помощью формул для парной регрессии, а затем с помощью метода наименьших квадратов.**"
   ]
  },
  {
   "cell_type": "markdown",
   "id": "e05079ad",
   "metadata": {},
   "source": [
    "С помощью формул для парной регрессии:"
   ]
  },
  {
   "cell_type": "code",
   "execution_count": 34,
   "id": "b2bb2e3d",
   "metadata": {},
   "outputs": [
    {
     "data": {
      "text/plain": [
       "(2.62, 444.18)"
      ]
     },
     "execution_count": 34,
     "metadata": {},
     "output_type": "execute_result"
    }
   ],
   "source": [
    "salary = np.array([35, 45, 190, 200, 40, 70, 54, 150, 120, 110])\n",
    "scoring = np.array([401, 574, 874, 919, 459, 739, 653, 902, 746, 832])\n",
    "\n",
    "b1 = (np.mean(salary * scoring) - np.mean(salary) * np.mean(scoring)) / (np.mean(salary ** 2) - np.mean(salary) ** 2)\n",
    "b0 = np.mean(scoring) - b1 * np.mean(salary)\n",
    "\n",
    "round(b1, 2), round(b0, 2)"
   ]
  },
  {
   "cell_type": "markdown",
   "id": "d6148983",
   "metadata": {},
   "source": [
    "С помощью метода наименьших квадратов:"
   ]
  },
  {
   "cell_type": "code",
   "execution_count": 35,
   "id": "17aac1d2",
   "metadata": {},
   "outputs": [
    {
     "data": {
      "text/plain": [
       "349464.00000000023"
      ]
     },
     "execution_count": 35,
     "metadata": {},
     "output_type": "execute_result"
    }
   ],
   "source": [
    "x = np.reshape(salary, (-1, 1))\n",
    "\n",
    "ones = np.ones((x.shape[0], 1))\n",
    "x = np.hstack((ones, x))  # Присоединяем к x столбец из единиц, соответствующий фиктивному фактору\n",
    "\n",
    "y = np.reshape(scoring, (-1, 1))\n",
    "\n",
    "XTX = x.T.dot(x)  # Записываем матрицу  𝑋⊤𝑋\n",
    "np.linalg.det(XTX)  # Считаем ее определитель"
   ]
  },
  {
   "cell_type": "markdown",
   "id": "fc782d1a",
   "metadata": {},
   "source": [
    "Определитель не близок к нулю, значит можем записать аналитическое решение:"
   ]
  },
  {
   "cell_type": "code",
   "execution_count": 36,
   "id": "124f7935",
   "metadata": {},
   "outputs": [
    {
     "data": {
      "text/plain": [
       "array([[444.17735732],\n",
       "       [  2.62053888]])"
      ]
     },
     "execution_count": 36,
     "metadata": {},
     "output_type": "execute_result"
    }
   ],
   "source": [
    "XTX_inv = np.linalg.inv(XTX)  # обратная матрица\n",
    "\n",
    "b = XTX_inv.dot(x.T).dot(y)\n",
    "\n",
    "b"
   ]
  },
  {
   "cell_type": "markdown",
   "id": "f27d37bf",
   "metadata": {},
   "source": [
    "Модель линейной регрессии имеет вид:\n",
    "\n",
    "$ у = 444.18 + 2.62 \\cdot x $"
   ]
  },
  {
   "cell_type": "markdown",
   "id": "37ec1832",
   "metadata": {},
   "source": [
    "**Постройте scatter plot по данным и отметьте на нём прямую линейной регрессии, полученную в п. 1.**"
   ]
  },
  {
   "cell_type": "code",
   "execution_count": 37,
   "id": "2a583d8c",
   "metadata": {},
   "outputs": [
    {
     "data": {
      "text/plain": [
       "[<matplotlib.lines.Line2D at 0x7f14f1814a60>]"
      ]
     },
     "execution_count": 37,
     "metadata": {},
     "output_type": "execute_result"
    },
    {
     "data": {
      "image/png": "[encoded data removed]",
      "text/plain": [
       "<Figure size 432x288 with 1 Axes>"
      ]
     },
     "metadata": {
      "needs_background": "light"
     },
     "output_type": "display_data"
    }
   ],
   "source": [
    "x = salary\n",
    "y = b0 + b1 * x\n",
    "\n",
    "plt.scatter(salary, scoring)\n",
    "plt.plot(x, y, color='red')"
   ]
  },
  {
   "cell_type": "markdown",
   "id": "91833425",
   "metadata": {},
   "source": [
    "**Посчитайте коэффициент детерминации, среднюю ошибку аппроксимации.**"
   ]
  },
  {
   "cell_type": "markdown",
   "id": "b47b5f7d",
   "metadata": {},
   "source": [
    "Создаем массив из предсказанных значений:"
   ]
  },
  {
   "cell_type": "code",
   "execution_count": 38,
   "id": "a2050a62",
   "metadata": {},
   "outputs": [
    {
     "name": "stdout",
     "output_type": "stream",
     "text": [
      "real: [401 574 874 919 459]\n",
      "pred: [536. 562. 942. 968. 549.]\n"
     ]
    }
   ],
   "source": [
    "z = (b0 + b1 * salary).round()\n",
    "\n",
    "print(f'real: {scoring[:5]}')\n",
    "print(f'pred: {z[:5]}')"
   ]
  },
  {
   "cell_type": "code",
   "execution_count": 39,
   "id": "edba42f5",
   "metadata": {},
   "outputs": [
    {
     "data": {
      "text/plain": [
       "0.7863853917881484"
      ]
     },
     "execution_count": 39,
     "metadata": {},
     "output_type": "execute_result"
    }
   ],
   "source": [
    "R = z.var() / scoring.var()\n",
    "R  # коэффициент детерминации"
   ]
  },
  {
   "cell_type": "code",
   "execution_count": 40,
   "id": "bfa9cd87",
   "metadata": {},
   "outputs": [
    {
     "data": {
      "text/plain": [
       "0.11472517487728622"
      ]
     },
     "execution_count": 40,
     "metadata": {},
     "output_type": "execute_result"
    }
   ],
   "source": [
    "np.abs((scoring - z) / scoring).mean()  # средняя ошибка аппроксимации"
   ]
  },
  {
   "cell_type": "markdown",
   "id": "e41c6bfb",
   "metadata": {},
   "source": [
    "Средняя ошибка аппроксимации более 10%, значит модель плохо предсказывает поведенческий кредитный скоринг. Хотя коэффициент детерминации почти в 79% говорит о неплохом качестве модели линейной регрессии.\n",
    "Видимо, процент возврата кредита зависит не только от величины заработной платы заемщиков, т.е. не хватает признаков для построения модели с качеством на отлично."
   ]
  },
  {
   "cell_type": "markdown",
   "id": "a5cd4353",
   "metadata": {},
   "source": [
    "**Оцените построенное уравнение регрессии с помощью F-критерия Фишера.**"
   ]
  },
  {
   "cell_type": "code",
   "execution_count": 41,
   "id": "2adb0453",
   "metadata": {},
   "outputs": [
    {
     "data": {
      "text/plain": [
       "29.450622253633632"
      ]
     },
     "execution_count": 41,
     "metadata": {},
     "output_type": "execute_result"
    }
   ],
   "source": [
    "k1 = 1\n",
    "k2 = len(scoring) - k1 - 1\n",
    "\n",
    "T = (R / (1 - R)) * (k2 / k1)\n",
    "T"
   ]
  },
  {
   "cell_type": "markdown",
   "id": "77ebb5f0",
   "metadata": {},
   "source": [
    "Для уровня значимости  𝛼 = 0.05:"
   ]
  },
  {
   "cell_type": "code",
   "execution_count": 42,
   "id": "5cca5e9f",
   "metadata": {},
   "outputs": [
    {
     "data": {
      "text/plain": [
       "5.317655071578714"
      ]
     },
     "execution_count": 42,
     "metadata": {},
     "output_type": "execute_result"
    }
   ],
   "source": [
    "alpha = 0.05\n",
    "\n",
    "F_crit = stats.f.ppf(1 - alpha, k1, k2)\n",
    "F_crit"
   ]
  },
  {
   "cell_type": "markdown",
   "id": "4ec964d2",
   "metadata": {},
   "source": [
    "𝑇 > 𝐹𝑐𝑟𝑖𝑡, значит уравнение регрессии статистически значимо"
   ]
  },
  {
   "cell_type": "markdown",
   "id": "22027a2b",
   "metadata": {},
   "source": [
    "**Оцените значимость получившихся параметров уравнения регрессии и постройте для них доверительные интервалы с помощью t-статистики Стьюдента.**"
   ]
  },
  {
   "cell_type": "markdown",
   "id": "10773365",
   "metadata": {},
   "source": [
    "Для параметра 𝑏1.\n",
    "\n",
    "Значение стандартной ошибки коэффициента наклона:"
   ]
  },
  {
   "cell_type": "code",
   "execution_count": 43,
   "id": "f05c4a7a",
   "metadata": {},
   "outputs": [
    {
     "data": {
      "text/plain": [
       "0.4810599618585733"
      ]
     },
     "execution_count": 43,
     "metadata": {},
     "output_type": "execute_result"
    }
   ],
   "source": [
    "s_slope = np.sqrt((((scoring - z) ** 2).sum() / k2) / ((salary - salary.mean()) ** 2).sum())\n",
    "\n",
    "s_slope"
   ]
  },
  {
   "cell_type": "markdown",
   "id": "d23e19d7",
   "metadata": {},
   "source": [
    "Чтобы оценить значимость 𝑏1, рассмотрим нулевую гипотезу  𝐻0: реальное значение коэффициента  𝑏1  равно 0 (т.е. между значениями из salary  и  scoring  нет корреляции). Тогда статистика:"
   ]
  },
  {
   "cell_type": "code",
   "execution_count": 44,
   "id": "a4acf106",
   "metadata": {},
   "outputs": [
    {
     "data": {
      "text/plain": [
       "5.4474267038942985"
      ]
     },
     "execution_count": 44,
     "metadata": {},
     "output_type": "execute_result"
    }
   ],
   "source": [
    "T = b1 / s_slope\n",
    "T"
   ]
  },
  {
   "cell_type": "markdown",
   "id": "1c9a5557",
   "metadata": {},
   "source": [
    "$t_{1 - 0.05/2, \\: 10} = 2.2281$\n",
    "\n",
    "Критическая область:\n",
    "\n",
    "$Ω𝛼=(-∞, -2.2281)∪(2.2281, ∞)$\n",
    "\n",
    "𝑏1 = 2.62 -- попадает в критическую область. Вывод: нулевая гипотеза (об отсутствии корреляции между значениями из  salary  и  scoring ) отвергается, следовательно параметр  𝑏1  является значимым.\n",
    "\n",
    "Доверительный интервал для параметра  𝑏1:"
   ]
  },
  {
   "cell_type": "code",
   "execution_count": 45,
   "id": "ea376748",
   "metadata": {},
   "outputs": [
    {
     "data": {
      "text/plain": [
       "(1.5486891813856778, 3.692388583419852)"
      ]
     },
     "execution_count": 45,
     "metadata": {},
     "output_type": "execute_result"
    }
   ],
   "source": [
    "b1 - 2.2281 * s_slope, b1 + 2.2281 * s_slope"
   ]
  },
  {
   "cell_type": "markdown",
   "id": "36639c55",
   "metadata": {},
   "source": [
    "Для параметра 𝑏0:"
   ]
  },
  {
   "cell_type": "code",
   "execution_count": 46,
   "id": "56d4af0c",
   "metadata": {},
   "outputs": [
    {
     "data": {
      "text/plain": [
       "56.46381745855478"
      ]
     },
     "execution_count": 46,
     "metadata": {},
     "output_type": "execute_result"
    }
   ],
   "source": [
    "s_intercept = s_slope * np.sqrt((salary ** 2).mean())\n",
    "s_intercept"
   ]
  },
  {
   "cell_type": "markdown",
   "id": "36f92514",
   "metadata": {},
   "source": [
    "Значение статистики  𝑇:"
   ]
  },
  {
   "cell_type": "code",
   "execution_count": 47,
   "id": "20f21c1a",
   "metadata": {},
   "outputs": [
    {
     "data": {
      "text/plain": [
       "7.8665838995103705"
      ]
     },
     "execution_count": 47,
     "metadata": {},
     "output_type": "execute_result"
    }
   ],
   "source": [
    "T = b0 / s_intercept\n",
    "T"
   ]
  },
  {
   "cell_type": "markdown",
   "id": "f9e2089f",
   "metadata": {},
   "source": [
    "𝑏0 = 444.18 -- попадает в критическую область, следовательно 𝑏0 является значимым"
   ]
  },
  {
   "cell_type": "markdown",
   "id": "8a1eb88f",
   "metadata": {},
   "source": [
    "Доверительный интервал для параметра  𝑏0:"
   ]
  },
  {
   "cell_type": "code",
   "execution_count": 48,
   "id": "5ac441b1",
   "metadata": {},
   "outputs": [
    {
     "data": {
      "text/plain": [
       "(318.3703256449537, 569.9843890037655)"
      ]
     },
     "execution_count": 48,
     "metadata": {},
     "output_type": "execute_result"
    }
   ],
   "source": [
    "(b0 - t * s_intercept, b0 + t * s_intercept)"
   ]
  },
  {
   "cell_type": "markdown",
   "id": "eb9df4cb",
   "metadata": {},
   "source": [
    "### Задание 2\n",
    "\n",
    "**В каких случаях для вычисления доверительных интервалов и проверки статистических гипотез используется таблица значений функции Лапласа, а в каких -- таблица квантилей распределения Стьюдента?**"
   ]
  },
  {
   "cell_type": "markdown",
   "id": "49467624",
   "metadata": {},
   "source": [
    "Когда проверяются статистические гипотезы и вычисляются доверительные интервалы относительно матожидания нормально распределенной случайной величины **с неизвестной дисперсией** используется **таблица квантилей распределения Стьюдента**.\n",
    "Если дисперсия случайной величины известна -- пользуются таблицей значений функции Лапласа."
   ]
  }
 ],
 "metadata": {
  "kernelspec": {
   "display_name": "Python 3 (ipykernel)",
   "language": "python",
   "name": "python3"
  },
  "language_info": {
   "codemirror_mode": {
    "name": "ipython",
    "version": 3
   },
   "file_extension": ".py",
   "mimetype": "text/x-python",
   "name": "python",
   "nbconvert_exporter": "python",
   "pygments_lexer": "ipython3",
   "version": "3.9.12"
  }
 },
 "nbformat": 4,
 "nbformat_minor": 5
}
