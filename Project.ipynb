{
 "cells": [
  {
   "cell_type": "markdown",
   "id": "167fc003",
   "metadata": {},
   "source": [
    "# Курсовой проект"
   ]
  },
  {
   "cell_type": "markdown",
   "id": "d1a05737",
   "metadata": {},
   "source": [
    "### Задача\n",
    "\n",
    "#### Статистическое изучение курса цены EUR к USD со дня ее основания (1.11.1993). Сделать прогноз курса EUR/USD на 2023 год."
   ]
  },
  {
   "cell_type": "code",
   "execution_count": 484,
   "id": "7f5bf7d5",
   "metadata": {},
   "outputs": [],
   "source": [
    "import numpy as np\n",
    "import pandas as pd\n",
    "\n",
    "import matplotlib\n",
    "import matplotlib.image as img\n",
    "import matplotlib.pyplot as plt\n",
    "import seaborn as sns\n",
    "#from scipy import stats\n",
    "%matplotlib inline\n",
    "\n",
    "matplotlib.rcParams.update({'font.size': 14})\n",
    "\n",
    "import warnings\n",
    "warnings.filterwarnings('ignore')"
   ]
  },
  {
   "cell_type": "markdown",
   "id": "26c56276",
   "metadata": {},
   "source": [
    "#### 1. Загрузка данных и первое ознакомление"
   ]
  },
  {
   "cell_type": "code",
   "execution_count": 485,
   "id": "f9776927",
   "metadata": {},
   "outputs": [
    {
     "data": {
      "text/html": [
       "<div>\n",
       "<style scoped>\n",
       "    .dataframe tbody tr th:only-of-type {\n",
       "        vertical-align: middle;\n",
       "    }\n",
       "\n",
       "    .dataframe tbody tr th {\n",
       "        vertical-align: top;\n",
       "    }\n",
       "\n",
       "    .dataframe thead th {\n",
       "        text-align: right;\n",
       "    }\n",
       "</style>\n",
       "<table border=\"1\" class=\"dataframe\">\n",
       "  <thead>\n",
       "    <tr style=\"text-align: right;\">\n",
       "      <th></th>\n",
       "      <th>Date</th>\n",
       "      <th>Price</th>\n",
       "      <th>Price_open</th>\n",
       "      <th>Price_max</th>\n",
       "      <th>Price_min</th>\n",
       "    </tr>\n",
       "  </thead>\n",
       "  <tbody>\n",
       "    <tr>\n",
       "      <th>0</th>\n",
       "      <td>2022-07-29</td>\n",
       "      <td>0.9783</td>\n",
       "      <td>0.9806</td>\n",
       "      <td>0.9857</td>\n",
       "      <td>0.9751</td>\n",
       "    </tr>\n",
       "    <tr>\n",
       "      <th>1</th>\n",
       "      <td>2022-07-28</td>\n",
       "      <td>0.9806</td>\n",
       "      <td>0.9806</td>\n",
       "      <td>0.9887</td>\n",
       "      <td>0.9769</td>\n",
       "    </tr>\n",
       "    <tr>\n",
       "      <th>2</th>\n",
       "      <td>2022-07-27</td>\n",
       "      <td>0.9798</td>\n",
       "      <td>0.9884</td>\n",
       "      <td>0.9905</td>\n",
       "      <td>0.9783</td>\n",
       "    </tr>\n",
       "    <tr>\n",
       "      <th>3</th>\n",
       "      <td>2022-07-26</td>\n",
       "      <td>0.9883</td>\n",
       "      <td>0.9785</td>\n",
       "      <td>0.9894</td>\n",
       "      <td>0.9754</td>\n",
       "    </tr>\n",
       "    <tr>\n",
       "      <th>4</th>\n",
       "      <td>2022-07-25</td>\n",
       "      <td>0.9781</td>\n",
       "      <td>0.9792</td>\n",
       "      <td>0.9824</td>\n",
       "      <td>0.9748</td>\n",
       "    </tr>\n",
       "    <tr>\n",
       "      <th>...</th>\n",
       "      <td>...</td>\n",
       "      <td>...</td>\n",
       "      <td>...</td>\n",
       "      <td>...</td>\n",
       "      <td>...</td>\n",
       "    </tr>\n",
       "    <tr>\n",
       "      <th>7449</th>\n",
       "      <td>1993-11-05</td>\n",
       "      <td>0.8734</td>\n",
       "      <td>0.8734</td>\n",
       "      <td>0.8734</td>\n",
       "      <td>0.8734</td>\n",
       "    </tr>\n",
       "    <tr>\n",
       "      <th>7450</th>\n",
       "      <td>1993-11-04</td>\n",
       "      <td>0.8715</td>\n",
       "      <td>0.8715</td>\n",
       "      <td>0.8715</td>\n",
       "      <td>0.8715</td>\n",
       "    </tr>\n",
       "    <tr>\n",
       "      <th>7451</th>\n",
       "      <td>1993-11-03</td>\n",
       "      <td>0.8710</td>\n",
       "      <td>0.8710</td>\n",
       "      <td>0.8710</td>\n",
       "      <td>0.8710</td>\n",
       "    </tr>\n",
       "    <tr>\n",
       "      <th>7452</th>\n",
       "      <td>1993-11-02</td>\n",
       "      <td>0.8721</td>\n",
       "      <td>0.8721</td>\n",
       "      <td>0.8721</td>\n",
       "      <td>0.8721</td>\n",
       "    </tr>\n",
       "    <tr>\n",
       "      <th>7453</th>\n",
       "      <td>1993-11-01</td>\n",
       "      <td>0.8746</td>\n",
       "      <td>0.8746</td>\n",
       "      <td>0.8746</td>\n",
       "      <td>0.8746</td>\n",
       "    </tr>\n",
       "  </tbody>\n",
       "</table>\n",
       "<p>7454 rows × 5 columns</p>\n",
       "</div>"
      ],
      "text/plain": [
       "            Date   Price  Price_open  Price_max  Price_min\n",
       "0     2022-07-29  0.9783      0.9806     0.9857     0.9751\n",
       "1     2022-07-28  0.9806      0.9806     0.9887     0.9769\n",
       "2     2022-07-27  0.9798      0.9884     0.9905     0.9783\n",
       "3     2022-07-26  0.9883      0.9785     0.9894     0.9754\n",
       "4     2022-07-25  0.9781      0.9792     0.9824     0.9748\n",
       "...          ...     ...         ...        ...        ...\n",
       "7449  1993-11-05  0.8734      0.8734     0.8734     0.8734\n",
       "7450  1993-11-04  0.8715      0.8715     0.8715     0.8715\n",
       "7451  1993-11-03  0.8710      0.8710     0.8710     0.8710\n",
       "7452  1993-11-02  0.8721      0.8721     0.8721     0.8721\n",
       "7453  1993-11-01  0.8746      0.8746     0.8746     0.8746\n",
       "\n",
       "[7454 rows x 5 columns]"
      ]
     },
     "execution_count": 485,
     "metadata": {},
     "output_type": "execute_result"
    }
   ],
   "source": [
    "df = pd.read_csv('USD_EUR.csv', sep=',')\n",
    "\n",
    "df"
   ]
  },
  {
   "cell_type": "code",
   "execution_count": 486,
   "id": "d567d864",
   "metadata": {},
   "outputs": [],
   "source": [
    "df['Date'] = df['Date'].astype(np.datetime64)  # сделаем признак Date спецформата для комфортной работы"
   ]
  },
  {
   "cell_type": "code",
   "execution_count": 487,
   "id": "627ec347",
   "metadata": {},
   "outputs": [
    {
     "name": "stdout",
     "output_type": "stream",
     "text": [
      "<class 'pandas.core.frame.DataFrame'>\n",
      "RangeIndex: 7454 entries, 0 to 7453\n",
      "Data columns (total 5 columns):\n",
      " #   Column      Non-Null Count  Dtype         \n",
      "---  ------      --------------  -----         \n",
      " 0   Date        7454 non-null   datetime64[ns]\n",
      " 1   Price       7454 non-null   float64       \n",
      " 2   Price_open  7454 non-null   float64       \n",
      " 3   Price_max   7454 non-null   float64       \n",
      " 4   Price_min   7454 non-null   float64       \n",
      "dtypes: datetime64[ns](1), float64(4)\n",
      "memory usage: 291.3 KB\n"
     ]
    }
   ],
   "source": [
    "df.info(memory_usage='deep')"
   ]
  },
  {
   "cell_type": "markdown",
   "id": "b783992c",
   "metadata": {},
   "source": [
    "Описание датасета.\n",
    "\n",
    "Пердставлены внутридневные цены валютной пары EUR/USD в период 1.11.1993--29.07.2022 г. (10497 календарных дней или 28 лет 8 месяцев и 27 дней).\n",
    "\n",
    "Валютный рынок работает Пн-Пт, Сб-Вс -- выходные, поэтому датасет состоит из 7454 наблюдений:\n",
    "\n",
    "Date -- дата торгов\n",
    "Price -- зафиксированная цена курса валютной пары EUR/USD\n",
    "Price_open -- цена открытия\n",
    "Price_max -- максимальная цена за день\n",
    "Price_min -- минимальная цена за день"
   ]
  },
  {
   "cell_type": "code",
   "execution_count": 488,
   "id": "724c2fe8",
   "metadata": {},
   "outputs": [
    {
     "data": {
      "text/html": [
       "<div>\n",
       "<style scoped>\n",
       "    .dataframe tbody tr th:only-of-type {\n",
       "        vertical-align: middle;\n",
       "    }\n",
       "\n",
       "    .dataframe tbody tr th {\n",
       "        vertical-align: top;\n",
       "    }\n",
       "\n",
       "    .dataframe thead th {\n",
       "        text-align: right;\n",
       "    }\n",
       "</style>\n",
       "<table border=\"1\" class=\"dataframe\">\n",
       "  <thead>\n",
       "    <tr style=\"text-align: right;\">\n",
       "      <th></th>\n",
       "      <th>Price</th>\n",
       "      <th>Price_open</th>\n",
       "      <th>Price_max</th>\n",
       "      <th>Price_min</th>\n",
       "    </tr>\n",
       "  </thead>\n",
       "  <tbody>\n",
       "    <tr>\n",
       "      <th>count</th>\n",
       "      <td>7454.000000</td>\n",
       "      <td>7454.000000</td>\n",
       "      <td>7454.000000</td>\n",
       "      <td>7454.000000</td>\n",
       "    </tr>\n",
       "    <tr>\n",
       "      <th>mean</th>\n",
       "      <td>0.847918</td>\n",
       "      <td>0.847539</td>\n",
       "      <td>0.851201</td>\n",
       "      <td>0.844378</td>\n",
       "    </tr>\n",
       "    <tr>\n",
       "      <th>std</th>\n",
       "      <td>0.111548</td>\n",
       "      <td>0.111839</td>\n",
       "      <td>0.112413</td>\n",
       "      <td>0.111022</td>\n",
       "    </tr>\n",
       "    <tr>\n",
       "      <th>min</th>\n",
       "      <td>0.625300</td>\n",
       "      <td>0.625100</td>\n",
       "      <td>0.630200</td>\n",
       "      <td>0.623400</td>\n",
       "    </tr>\n",
       "    <tr>\n",
       "      <th>25%</th>\n",
       "      <td>0.766525</td>\n",
       "      <td>0.764825</td>\n",
       "      <td>0.769500</td>\n",
       "      <td>0.762700</td>\n",
       "    </tr>\n",
       "    <tr>\n",
       "      <th>50%</th>\n",
       "      <td>0.837800</td>\n",
       "      <td>0.837800</td>\n",
       "      <td>0.840300</td>\n",
       "      <td>0.835050</td>\n",
       "    </tr>\n",
       "    <tr>\n",
       "      <th>75%</th>\n",
       "      <td>0.903275</td>\n",
       "      <td>0.904200</td>\n",
       "      <td>0.905875</td>\n",
       "      <td>0.901500</td>\n",
       "    </tr>\n",
       "    <tr>\n",
       "      <th>max</th>\n",
       "      <td>1.208900</td>\n",
       "      <td>1.208800</td>\n",
       "      <td>1.215700</td>\n",
       "      <td>1.200900</td>\n",
       "    </tr>\n",
       "  </tbody>\n",
       "</table>\n",
       "</div>"
      ],
      "text/plain": [
       "             Price   Price_open    Price_max    Price_min\n",
       "count  7454.000000  7454.000000  7454.000000  7454.000000\n",
       "mean      0.847918     0.847539     0.851201     0.844378\n",
       "std       0.111548     0.111839     0.112413     0.111022\n",
       "min       0.625300     0.625100     0.630200     0.623400\n",
       "25%       0.766525     0.764825     0.769500     0.762700\n",
       "50%       0.837800     0.837800     0.840300     0.835050\n",
       "75%       0.903275     0.904200     0.905875     0.901500\n",
       "max       1.208900     1.208800     1.215700     1.200900"
      ]
     },
     "execution_count": 488,
     "metadata": {},
     "output_type": "execute_result"
    }
   ],
   "source": [
    "df.describe()"
   ]
  },
  {
   "cell_type": "raw",
   "id": "28c1fa86",
   "metadata": {},
   "source": [
    "Большинство цен за весь период не превышало 1 евро за доллар. Можно даже сказать, что 90% цен:"
   ]
  },
  {
   "cell_type": "code",
   "execution_count": 489,
   "id": "43b6bc4f",
   "metadata": {},
   "outputs": [
    {
     "data": {
      "text/plain": [
       "(0.99254, 1.0158)"
      ]
     },
     "execution_count": 489,
     "metadata": {},
     "output_type": "execute_result"
    }
   ],
   "source": [
    "df['Price'].quantile(0.90), df['Price'].quantile(0.91)"
   ]
  },
  {
   "cell_type": "markdown",
   "id": "9fa9e14f",
   "metadata": {},
   "source": [
    "Посмотрим это на гистограмме:"
   ]
  },
  {
   "cell_type": "code",
   "execution_count": 490,
   "id": "21f69ffb",
   "metadata": {},
   "outputs": [
    {
     "data": {
      "image/png": "[encoded data removed]",
      "text/plain": [
       "<Figure size 864x864 with 4 Axes>"
      ]
     },
     "metadata": {
      "needs_background": "light"
     },
     "output_type": "display_data"
    }
   ],
   "source": [
    "df[['Price', 'Price_open', 'Price_max', 'Price_min']].hist(figsize=(12,12), bins=20, grid=False);"
   ]
  },
  {
   "cell_type": "markdown",
   "id": "121f8c41",
   "metadata": {},
   "source": [
    "#### 2. Расчеты"
   ]
  },
  {
   "cell_type": "code",
   "execution_count": 491,
   "id": "1a8b3fd4",
   "metadata": {},
   "outputs": [
    {
     "data": {
      "text/plain": [
       "0    0.735\n",
       "1    0.747\n",
       "Name: Price, dtype: float64"
      ]
     },
     "execution_count": 491,
     "metadata": {},
     "output_type": "execute_result"
    }
   ],
   "source": [
    "mode_price = df.Price.mode()\n",
    "mode_price"
   ]
  },
  {
   "cell_type": "markdown",
   "id": "0665b690",
   "metadata": {},
   "source": [
    "Мультимодальное распределение, т.к. две моды. Средний курс евро к доллару:"
   ]
  },
  {
   "cell_type": "code",
   "execution_count": 492,
   "id": "d97aa407",
   "metadata": {},
   "outputs": [
    {
     "data": {
      "text/plain": [
       "0.8479183793936121"
      ]
     },
     "execution_count": 492,
     "metadata": {},
     "output_type": "execute_result"
    }
   ],
   "source": [
    "mean_price = df.Price.mean()\n",
    "mean_price"
   ]
  },
  {
   "cell_type": "markdown",
   "id": "805982f9",
   "metadata": {},
   "source": [
    "Медиана близка к среднему курсу:"
   ]
  },
  {
   "cell_type": "code",
   "execution_count": 493,
   "id": "4797b43a",
   "metadata": {},
   "outputs": [
    {
     "data": {
      "text/plain": [
       "0.8378"
      ]
     },
     "execution_count": 493,
     "metadata": {},
     "output_type": "execute_result"
    }
   ],
   "source": [
    "median_price = df.Price.median()\n",
    "median_price"
   ]
  },
  {
   "cell_type": "markdown",
   "id": "18d3d06f",
   "metadata": {},
   "source": [
    "Средний курс евро к доллару из всех зафиксированных (минимальные, максимальные, открытия, закрытия) равен среднему курсу по закрытию:"
   ]
  },
  {
   "cell_type": "code",
   "execution_count": 494,
   "id": "adea4372",
   "metadata": {},
   "outputs": [
    {
     "data": {
      "text/plain": [
       "0.8477589784008586"
      ]
     },
     "execution_count": 494,
     "metadata": {},
     "output_type": "execute_result"
    }
   ],
   "source": [
    "mean_all = np.concatenate([df.Price, df.Price_open, df.Price_max, df.Price_min]).mean()\n",
    "mean_all"
   ]
  },
  {
   "cell_type": "code",
   "execution_count": 495,
   "id": "9a01a5f7",
   "metadata": {},
   "outputs": [
    {
     "data": {
      "text/plain": [
       "True"
      ]
     },
     "execution_count": 495,
     "metadata": {},
     "output_type": "execute_result"
    }
   ],
   "source": [
    "round(mean_all.mean(), 3) == round(mean_price, 3)"
   ]
  },
  {
   "cell_type": "markdown",
   "id": "872d0a15",
   "metadata": {},
   "source": [
    "Т.е. перед нами нормальное распределение."
   ]
  },
  {
   "cell_type": "markdown",
   "id": "2c05b949",
   "metadata": {},
   "source": [
    "Минимумы:"
   ]
  },
  {
   "cell_type": "code",
   "execution_count": 496,
   "id": "d86c77eb",
   "metadata": {},
   "outputs": [
    {
     "data": {
      "text/plain": [
       "Price         0.6253\n",
       "Price_open    0.6251\n",
       "Price_max     0.6302\n",
       "Price_min     0.6234\n",
       "dtype: float64"
      ]
     },
     "execution_count": 496,
     "metadata": {},
     "output_type": "execute_result"
    }
   ],
   "source": [
    "min_all = df[['Price', 'Price_open', 'Price_max', 'Price_min']].min()\n",
    "min_all"
   ]
  },
  {
   "cell_type": "code",
   "execution_count": 497,
   "id": "e8503bc9",
   "metadata": {},
   "outputs": [
    {
     "data": {
      "text/plain": [
       "0.6234"
      ]
     },
     "execution_count": 497,
     "metadata": {},
     "output_type": "execute_result"
    }
   ],
   "source": [
    "min_all.min()"
   ]
  },
  {
   "cell_type": "markdown",
   "id": "2d763563",
   "metadata": {},
   "source": [
    "Максимумы:"
   ]
  },
  {
   "cell_type": "code",
   "execution_count": 498,
   "id": "57eb5092",
   "metadata": {},
   "outputs": [
    {
     "data": {
      "text/plain": [
       "Price         1.2089\n",
       "Price_open    1.2088\n",
       "Price_max     1.2157\n",
       "Price_min     1.2009\n",
       "dtype: float64"
      ]
     },
     "execution_count": 498,
     "metadata": {},
     "output_type": "execute_result"
    }
   ],
   "source": [
    "max_all = df[['Price', 'Price_open', 'Price_max', 'Price_min']].max()\n",
    "max_all"
   ]
  },
  {
   "cell_type": "code",
   "execution_count": 499,
   "id": "fcc87f8f",
   "metadata": {},
   "outputs": [
    {
     "data": {
      "text/plain": [
       "1.2157"
      ]
     },
     "execution_count": 499,
     "metadata": {},
     "output_type": "execute_result"
    }
   ],
   "source": [
    "max_all.max()"
   ]
  },
  {
   "cell_type": "markdown",
   "id": "020a7021",
   "metadata": {},
   "source": [
    "Отобразим статистические данные на графике курса евро к доллару с группировкой по годам:"
   ]
  },
  {
   "cell_type": "code",
   "execution_count": 500,
   "id": "6fad6f25",
   "metadata": {
    "scrolled": false
   },
   "outputs": [
    {
     "data": {
      "image/png": "[encoded data removed]",
      "text/plain": [
       "<Figure size 1152x576 with 1 Axes>"
      ]
     },
     "metadata": {
      "needs_background": "light"
     },
     "output_type": "display_data"
    }
   ],
   "source": [
    "mean_y_price = df.groupby([pd.Grouper(key='Date', freq='Y')]).agg(mean_year=('Price', 'mean')).reset_index()\n",
    "min_y_price = df.groupby([pd.Grouper(key='Date', freq='Y')]).agg(min_year=('Price', 'min')).reset_index()\n",
    "max_y_price = df.groupby([pd.Grouper(key='Date', freq='Y')]).agg(max_year=('Price', 'max')).reset_index()\n",
    "median_y_price = df.groupby([pd.Grouper(key='Date', freq='Y')]).agg(median_year=('Price', 'median')).reset_index()\n",
    "\n",
    "plt.figure(figsize=(16, 8))\n",
    "\n",
    "plt.plot(mean_y_price['Date'], mean_y_price['mean_year'], alpha=0.7, label=\"mean\", c='b')\n",
    "plt.plot(min_y_price['Date'], min_y_price['min_year'], label=\"min\", c='r')\n",
    "plt.plot(max_y_price['Date'], max_y_price['max_year'], label=\"max\", c='g')\n",
    "plt.plot(median_y_price['Date'], median_y_price['median_year'], label=\"median\", c='gray')\n",
    "\n",
    "plt.plot(min_y_price['Date'], np.array([mode_price[0]] * 30), label=\"mode_price_1\", c='c')\n",
    "plt.plot(min_y_price['Date'], np.array([mode_price[1]] * 30), label=\"mode_price_2\", c='c')\n",
    "plt.plot(min_y_price['Date'], np.array([mean_price] * 30), label=\"mean_price == mean_all\", c='orange')\n",
    "plt.plot(min_y_price['Date'], np.array([median_price] * 30), label=\"median_price == mean_all\", c='gold')\n",
    "\n",
    "plt.plot(min_y_price['Date'], np.array([min_all.min()] * 30), label=\"min_all\", c='m')\n",
    "plt.plot(min_y_price['Date'], np.array([max_all.max()] * 30), label=\"max_all\", c='m')\n",
    "\n",
    "plt.title('Статистические показатели. Группировка по годам')\n",
    "plt.legend()\n",
    "plt.grid(True)"
   ]
  },
  {
   "cell_type": "markdown",
   "id": "09df7b40",
   "metadata": {},
   "source": [
    "За 28,5 лет существования евро его курс можно сказать не изменился. Посмотрим дисперсию по дневному курсу (смещенную):"
   ]
  },
  {
   "cell_type": "code",
   "execution_count": 501,
   "id": "d5fa29e8",
   "metadata": {},
   "outputs": [
    {
     "data": {
      "text/plain": [
       "0.0124"
      ]
     },
     "execution_count": 501,
     "metadata": {},
     "output_type": "execute_result"
    }
   ],
   "source": [
    "price_variance = round(df['Price'].var(ddof=0), 4)\n",
    "price_variance"
   ]
  },
  {
   "cell_type": "markdown",
   "id": "07582582",
   "metadata": {},
   "source": [
    "Несмещенная дисперсия по дневному курсу:"
   ]
  },
  {
   "cell_type": "code",
   "execution_count": 502,
   "id": "6f6d0a6a",
   "metadata": {},
   "outputs": [
    {
     "data": {
      "text/plain": [
       "0.0124"
      ]
     },
     "execution_count": 502,
     "metadata": {},
     "output_type": "execute_result"
    }
   ],
   "source": [
    "round(df['Price'].var(ddof=1), 4)"
   ]
  },
  {
   "cell_type": "markdown",
   "id": "b9afead1",
   "metadata": {},
   "source": [
    "Смещенная и несмещенная дисперсии совпадают.\n",
    "\n",
    "Cреднее квадратичное отклонение по дневному курсу:"
   ]
  },
  {
   "cell_type": "code",
   "execution_count": 503,
   "id": "1ca710ae",
   "metadata": {},
   "outputs": [
    {
     "data": {
      "text/plain": [
       "0.1115"
      ]
     },
     "execution_count": 503,
     "metadata": {},
     "output_type": "execute_result"
    }
   ],
   "source": [
    "sq_price = round(df['Price'].std(ddof=0), 4)\n",
    "sq_price"
   ]
  },
  {
   "cell_type": "markdown",
   "id": "e7c75198",
   "metadata": {},
   "source": [
    "Несущественный разброс цен. \n",
    "\n",
    "Курс валютной пары может расти, падать или оставаться в одном ценовом коридоре (горизонтальный тренд), т.е. три варианта развития событий. \n",
    "\n",
    "Посмотрим как менялся курс евро к доллару от дня к дню (в положительную или отрицательную сторону или вовсе не изменялся). Для этого создадим доппризнак и отметим в нем 0 дни когда курс менялся в отрицательную сторону, 1 -- изменение в положительную сторону и 2 -- если курс по отношению к предыдущему дню не менялся:"
   ]
  },
  {
   "cell_type": "code",
   "execution_count": 504,
   "id": "30b73082",
   "metadata": {},
   "outputs": [
    {
     "data": {
      "text/html": [
       "<div>\n",
       "<style scoped>\n",
       "    .dataframe tbody tr th:only-of-type {\n",
       "        vertical-align: middle;\n",
       "    }\n",
       "\n",
       "    .dataframe tbody tr th {\n",
       "        vertical-align: top;\n",
       "    }\n",
       "\n",
       "    .dataframe thead th {\n",
       "        text-align: right;\n",
       "    }\n",
       "</style>\n",
       "<table border=\"1\" class=\"dataframe\">\n",
       "  <thead>\n",
       "    <tr style=\"text-align: right;\">\n",
       "      <th></th>\n",
       "      <th>Date</th>\n",
       "      <th>Price</th>\n",
       "      <th>Price_open</th>\n",
       "      <th>Price_max</th>\n",
       "      <th>Price_min</th>\n",
       "      <th>Price_change</th>\n",
       "    </tr>\n",
       "  </thead>\n",
       "  <tbody>\n",
       "    <tr>\n",
       "      <th>0</th>\n",
       "      <td>2022-07-29</td>\n",
       "      <td>0.9783</td>\n",
       "      <td>0.9806</td>\n",
       "      <td>0.9857</td>\n",
       "      <td>0.9751</td>\n",
       "      <td>0</td>\n",
       "    </tr>\n",
       "    <tr>\n",
       "      <th>1</th>\n",
       "      <td>2022-07-28</td>\n",
       "      <td>0.9806</td>\n",
       "      <td>0.9806</td>\n",
       "      <td>0.9887</td>\n",
       "      <td>0.9769</td>\n",
       "      <td>1</td>\n",
       "    </tr>\n",
       "    <tr>\n",
       "      <th>2</th>\n",
       "      <td>2022-07-27</td>\n",
       "      <td>0.9798</td>\n",
       "      <td>0.9884</td>\n",
       "      <td>0.9905</td>\n",
       "      <td>0.9783</td>\n",
       "      <td>0</td>\n",
       "    </tr>\n",
       "    <tr>\n",
       "      <th>3</th>\n",
       "      <td>2022-07-26</td>\n",
       "      <td>0.9883</td>\n",
       "      <td>0.9785</td>\n",
       "      <td>0.9894</td>\n",
       "      <td>0.9754</td>\n",
       "      <td>1</td>\n",
       "    </tr>\n",
       "    <tr>\n",
       "      <th>4</th>\n",
       "      <td>2022-07-25</td>\n",
       "      <td>0.9781</td>\n",
       "      <td>0.9792</td>\n",
       "      <td>0.9824</td>\n",
       "      <td>0.9748</td>\n",
       "      <td>0</td>\n",
       "    </tr>\n",
       "    <tr>\n",
       "      <th>5</th>\n",
       "      <td>2022-07-22</td>\n",
       "      <td>0.9790</td>\n",
       "      <td>0.9776</td>\n",
       "      <td>0.9872</td>\n",
       "      <td>0.9750</td>\n",
       "      <td>1</td>\n",
       "    </tr>\n",
       "    <tr>\n",
       "      <th>6</th>\n",
       "      <td>2022-07-21</td>\n",
       "      <td>0.9773</td>\n",
       "      <td>0.9825</td>\n",
       "      <td>0.9848</td>\n",
       "      <td>0.9729</td>\n",
       "      <td>0</td>\n",
       "    </tr>\n",
       "    <tr>\n",
       "      <th>7</th>\n",
       "      <td>2022-07-20</td>\n",
       "      <td>0.9822</td>\n",
       "      <td>0.9779</td>\n",
       "      <td>0.9847</td>\n",
       "      <td>0.9733</td>\n",
       "      <td>1</td>\n",
       "    </tr>\n",
       "    <tr>\n",
       "      <th>8</th>\n",
       "      <td>2022-07-19</td>\n",
       "      <td>0.9777</td>\n",
       "      <td>0.9860</td>\n",
       "      <td>0.9882</td>\n",
       "      <td>0.9737</td>\n",
       "      <td>0</td>\n",
       "    </tr>\n",
       "    <tr>\n",
       "      <th>9</th>\n",
       "      <td>2022-07-18</td>\n",
       "      <td>0.9858</td>\n",
       "      <td>0.9916</td>\n",
       "      <td>0.9923</td>\n",
       "      <td>0.9801</td>\n",
       "      <td>0</td>\n",
       "    </tr>\n",
       "  </tbody>\n",
       "</table>\n",
       "</div>"
      ],
      "text/plain": [
       "        Date   Price  Price_open  Price_max  Price_min  Price_change\n",
       "0 2022-07-29  0.9783      0.9806     0.9857     0.9751             0\n",
       "1 2022-07-28  0.9806      0.9806     0.9887     0.9769             1\n",
       "2 2022-07-27  0.9798      0.9884     0.9905     0.9783             0\n",
       "3 2022-07-26  0.9883      0.9785     0.9894     0.9754             1\n",
       "4 2022-07-25  0.9781      0.9792     0.9824     0.9748             0\n",
       "5 2022-07-22  0.9790      0.9776     0.9872     0.9750             1\n",
       "6 2022-07-21  0.9773      0.9825     0.9848     0.9729             0\n",
       "7 2022-07-20  0.9822      0.9779     0.9847     0.9733             1\n",
       "8 2022-07-19  0.9777      0.9860     0.9882     0.9737             0\n",
       "9 2022-07-18  0.9858      0.9916     0.9923     0.9801             0"
      ]
     },
     "execution_count": 504,
     "metadata": {},
     "output_type": "execute_result"
    }
   ],
   "source": [
    "df['Price_change'] = 0\n",
    "\n",
    "for i in range(df.shape[0] - 1):\n",
    "    if df['Price'][i] > df['Price'][i + 1]:\n",
    "        df['Price_change'][i] = 1\n",
    "    elif df['Price'][i] == df['Price'][i + 1]:\n",
    "        df['Price_change'][i] = 2\n",
    "    \n",
    "df.head(10)"
   ]
  },
  {
   "cell_type": "code",
   "execution_count": 505,
   "id": "cf9a957f",
   "metadata": {},
   "outputs": [
    {
     "data": {
      "text/plain": [
       "0    3686\n",
       "1    3681\n",
       "2      87\n",
       "Name: Price_change, dtype: int64"
      ]
     },
     "execution_count": 505,
     "metadata": {},
     "output_type": "execute_result"
    }
   ],
   "source": [
    "df.Price_change.value_counts()"
   ]
  },
  {
   "cell_type": "markdown",
   "id": "04e9a520",
   "metadata": {},
   "source": [
    "Выразим эти данные в относительной частоте того или иного события:"
   ]
  },
  {
   "cell_type": "code",
   "execution_count": 506,
   "id": "0340014e",
   "metadata": {},
   "outputs": [
    {
     "data": {
      "text/plain": [
       "0.012"
      ]
     },
     "execution_count": 506,
     "metadata": {},
     "output_type": "execute_result"
    }
   ],
   "source": [
    "round(df.Price_change.value_counts()[2] / df.shape[0], 3)  # относительная частота горизонтального тренда"
   ]
  },
  {
   "cell_type": "code",
   "execution_count": 507,
   "id": "adde53dc",
   "metadata": {},
   "outputs": [
    {
     "data": {
      "text/plain": [
       "0.494"
      ]
     },
     "execution_count": 507,
     "metadata": {},
     "output_type": "execute_result"
    }
   ],
   "source": [
    "round(df.Price_change.value_counts()[1] / df.shape[0], 3)  # относительная частота роста дневного курса евро к доллару"
   ]
  },
  {
   "cell_type": "code",
   "execution_count": 508,
   "id": "c33dd5e7",
   "metadata": {},
   "outputs": [
    {
     "data": {
      "text/plain": [
       "0.494"
      ]
     },
     "execution_count": 508,
     "metadata": {},
     "output_type": "execute_result"
    }
   ],
   "source": [
    "round(df.Price_change.value_counts()[0] / df.shape[0], 3)  # относительная частота понижения дневного курса евро к доллару"
   ]
  },
  {
   "cell_type": "markdown",
   "id": "3d105694",
   "metadata": {},
   "source": [
    "Одинаковая относительная частота роста и падения. Но это только относительная частота события, а курс за одно какое-либо событие мог меняться сразу на несколько пунктов в одном случае, а в другом меньше или больше. Посмотрим изменение курса в пунктах от дня к дню."
   ]
  },
  {
   "cell_type": "code",
   "execution_count": 509,
   "id": "928662bd",
   "metadata": {},
   "outputs": [
    {
     "data": {
      "text/html": [
       "<div>\n",
       "<style scoped>\n",
       "    .dataframe tbody tr th:only-of-type {\n",
       "        vertical-align: middle;\n",
       "    }\n",
       "\n",
       "    .dataframe tbody tr th {\n",
       "        vertical-align: top;\n",
       "    }\n",
       "\n",
       "    .dataframe thead th {\n",
       "        text-align: right;\n",
       "    }\n",
       "</style>\n",
       "<table border=\"1\" class=\"dataframe\">\n",
       "  <thead>\n",
       "    <tr style=\"text-align: right;\">\n",
       "      <th></th>\n",
       "      <th>Date</th>\n",
       "      <th>Price</th>\n",
       "      <th>Price_open</th>\n",
       "      <th>Price_max</th>\n",
       "      <th>Price_min</th>\n",
       "      <th>Price_change</th>\n",
       "      <th>Price_change_point</th>\n",
       "    </tr>\n",
       "  </thead>\n",
       "  <tbody>\n",
       "    <tr>\n",
       "      <th>0</th>\n",
       "      <td>2022-07-29</td>\n",
       "      <td>0.9783</td>\n",
       "      <td>0.9806</td>\n",
       "      <td>0.9857</td>\n",
       "      <td>0.9751</td>\n",
       "      <td>0</td>\n",
       "      <td>-23</td>\n",
       "    </tr>\n",
       "    <tr>\n",
       "      <th>1</th>\n",
       "      <td>2022-07-28</td>\n",
       "      <td>0.9806</td>\n",
       "      <td>0.9806</td>\n",
       "      <td>0.9887</td>\n",
       "      <td>0.9769</td>\n",
       "      <td>1</td>\n",
       "      <td>8</td>\n",
       "    </tr>\n",
       "    <tr>\n",
       "      <th>2</th>\n",
       "      <td>2022-07-27</td>\n",
       "      <td>0.9798</td>\n",
       "      <td>0.9884</td>\n",
       "      <td>0.9905</td>\n",
       "      <td>0.9783</td>\n",
       "      <td>0</td>\n",
       "      <td>-84</td>\n",
       "    </tr>\n",
       "    <tr>\n",
       "      <th>3</th>\n",
       "      <td>2022-07-26</td>\n",
       "      <td>0.9883</td>\n",
       "      <td>0.9785</td>\n",
       "      <td>0.9894</td>\n",
       "      <td>0.9754</td>\n",
       "      <td>1</td>\n",
       "      <td>101</td>\n",
       "    </tr>\n",
       "    <tr>\n",
       "      <th>4</th>\n",
       "      <td>2022-07-25</td>\n",
       "      <td>0.9781</td>\n",
       "      <td>0.9792</td>\n",
       "      <td>0.9824</td>\n",
       "      <td>0.9748</td>\n",
       "      <td>0</td>\n",
       "      <td>-9</td>\n",
       "    </tr>\n",
       "    <tr>\n",
       "      <th>...</th>\n",
       "      <td>...</td>\n",
       "      <td>...</td>\n",
       "      <td>...</td>\n",
       "      <td>...</td>\n",
       "      <td>...</td>\n",
       "      <td>...</td>\n",
       "      <td>...</td>\n",
       "    </tr>\n",
       "    <tr>\n",
       "      <th>7449</th>\n",
       "      <td>1993-11-05</td>\n",
       "      <td>0.8734</td>\n",
       "      <td>0.8734</td>\n",
       "      <td>0.8734</td>\n",
       "      <td>0.8734</td>\n",
       "      <td>1</td>\n",
       "      <td>18</td>\n",
       "    </tr>\n",
       "    <tr>\n",
       "      <th>7450</th>\n",
       "      <td>1993-11-04</td>\n",
       "      <td>0.8715</td>\n",
       "      <td>0.8715</td>\n",
       "      <td>0.8715</td>\n",
       "      <td>0.8715</td>\n",
       "      <td>1</td>\n",
       "      <td>5</td>\n",
       "    </tr>\n",
       "    <tr>\n",
       "      <th>7451</th>\n",
       "      <td>1993-11-03</td>\n",
       "      <td>0.8710</td>\n",
       "      <td>0.8710</td>\n",
       "      <td>0.8710</td>\n",
       "      <td>0.8710</td>\n",
       "      <td>0</td>\n",
       "      <td>-10</td>\n",
       "    </tr>\n",
       "    <tr>\n",
       "      <th>7452</th>\n",
       "      <td>1993-11-02</td>\n",
       "      <td>0.8721</td>\n",
       "      <td>0.8721</td>\n",
       "      <td>0.8721</td>\n",
       "      <td>0.8721</td>\n",
       "      <td>0</td>\n",
       "      <td>-25</td>\n",
       "    </tr>\n",
       "    <tr>\n",
       "      <th>7453</th>\n",
       "      <td>1993-11-01</td>\n",
       "      <td>0.8746</td>\n",
       "      <td>0.8746</td>\n",
       "      <td>0.8746</td>\n",
       "      <td>0.8746</td>\n",
       "      <td>0</td>\n",
       "      <td>0</td>\n",
       "    </tr>\n",
       "  </tbody>\n",
       "</table>\n",
       "<p>7454 rows × 7 columns</p>\n",
       "</div>"
      ],
      "text/plain": [
       "           Date   Price  Price_open  Price_max  Price_min  Price_change  \\\n",
       "0    2022-07-29  0.9783      0.9806     0.9857     0.9751             0   \n",
       "1    2022-07-28  0.9806      0.9806     0.9887     0.9769             1   \n",
       "2    2022-07-27  0.9798      0.9884     0.9905     0.9783             0   \n",
       "3    2022-07-26  0.9883      0.9785     0.9894     0.9754             1   \n",
       "4    2022-07-25  0.9781      0.9792     0.9824     0.9748             0   \n",
       "...         ...     ...         ...        ...        ...           ...   \n",
       "7449 1993-11-05  0.8734      0.8734     0.8734     0.8734             1   \n",
       "7450 1993-11-04  0.8715      0.8715     0.8715     0.8715             1   \n",
       "7451 1993-11-03  0.8710      0.8710     0.8710     0.8710             0   \n",
       "7452 1993-11-02  0.8721      0.8721     0.8721     0.8721             0   \n",
       "7453 1993-11-01  0.8746      0.8746     0.8746     0.8746             0   \n",
       "\n",
       "      Price_change_point  \n",
       "0                    -23  \n",
       "1                      8  \n",
       "2                    -84  \n",
       "3                    101  \n",
       "4                     -9  \n",
       "...                  ...  \n",
       "7449                  18  \n",
       "7450                   5  \n",
       "7451                 -10  \n",
       "7452                 -25  \n",
       "7453                   0  \n",
       "\n",
       "[7454 rows x 7 columns]"
      ]
     },
     "execution_count": 509,
     "metadata": {},
     "output_type": "execute_result"
    }
   ],
   "source": [
    "df['Price_change_point'] = 0\n",
    "\n",
    "for i in range(df.shape[0] - 1):\n",
    "    if df.Price_change[i] < 2:\n",
    "        df.Price_change_point[i] = (df.Price[i] - df.Price[i + 1]) * 10000\n",
    "        \n",
    "df['Price_change_point'] = df['Price_change_point'].astype(np.int64)\n",
    "        \n",
    "df"
   ]
  },
  {
   "cell_type": "code",
   "execution_count": 510,
   "id": "bd851a04",
   "metadata": {},
   "outputs": [
    {
     "data": {
      "text/plain": [
       "135782"
      ]
     },
     "execution_count": 510,
     "metadata": {},
     "output_type": "execute_result"
    }
   ],
   "source": [
    "df.loc[df['Price_change'] == 1, 'Price_change_point'].sum()  # рост курса в пунктах за все время"
   ]
  },
  {
   "cell_type": "code",
   "execution_count": 511,
   "id": "6dd1b61e",
   "metadata": {},
   "outputs": [
    {
     "data": {
      "text/plain": [
       "37"
      ]
     },
     "execution_count": 511,
     "metadata": {},
     "output_type": "execute_result"
    }
   ],
   "source": [
    "round(df.loc[df['Price_change'] == 1, 'Price_change_point'].sum() / df.Price_change.value_counts()[1])"
   ]
  },
  {
   "cell_type": "code",
   "execution_count": 512,
   "id": "d0049094",
   "metadata": {},
   "outputs": [
    {
     "data": {
      "text/plain": [
       "-134739"
      ]
     },
     "execution_count": 512,
     "metadata": {},
     "output_type": "execute_result"
    }
   ],
   "source": [
    "df.loc[df['Price_change'] == 0, 'Price_change_point'].sum()  # падение курса в пунктах за все время"
   ]
  },
  {
   "cell_type": "code",
   "execution_count": 513,
   "id": "be83caf2",
   "metadata": {},
   "outputs": [
    {
     "data": {
      "text/plain": [
       "-37"
      ]
     },
     "execution_count": 513,
     "metadata": {},
     "output_type": "execute_result"
    }
   ],
   "source": [
    "round(df.loc[df['Price_change'] == 0, 'Price_change_point'].sum() / df.Price_change.value_counts()[0])"
   ]
  },
  {
   "cell_type": "markdown",
   "id": "4396068f",
   "metadata": {},
   "source": [
    "Можно сказать, что за время существования евро ее курс по отношению к доллару находился в горизонтальном тренде."
   ]
  },
  {
   "cell_type": "code",
   "execution_count": 514,
   "id": "acefa06b",
   "metadata": {},
   "outputs": [
    {
     "data": {
      "text/plain": [
       "0.37944535199999996"
      ]
     },
     "execution_count": 514,
     "metadata": {},
     "output_type": "execute_result"
    }
   ],
   "source": [
    "n = 3\n",
    "k = 1\n",
    "p = 0.494\n",
    "q = 1 - p\n",
    "\n",
    "from math import factorial\n",
    "\n",
    "int(factorial(n) / (factorial(k) * factorial(n - k))) * (p ** k) * (q ** (n - k))\n",
    "# вероятность, что курс евро по отношению к доллару вырастет (или наоборот понизится, т.к. частота наступления этих событий равнозначна)"
   ]
  },
  {
   "cell_type": "code",
   "execution_count": 515,
   "id": "9f51c941",
   "metadata": {},
   "outputs": [
    {
     "data": {
      "text/plain": [
       "0.370446648"
      ]
     },
     "execution_count": 515,
     "metadata": {},
     "output_type": "execute_result"
    }
   ],
   "source": [
    "k = 2\n",
    "int(factorial(n) / (factorial(k) * factorial(n - k))) * (p ** k) * (q ** (n - k))\n",
    "# вероятность, что курс EUR/USD будет только расти или только понижаться"
   ]
  },
  {
   "cell_type": "markdown",
   "id": "6e678a27",
   "metadata": {},
   "source": [
    "Можно сделать предположение, что курс EUR/USD будет оставаться в ценовом коридоре (0.6234, 1.2157) пока не наберет достаточной массы или не произойдет какое-либо глобальное событие, когда он \"пробьет\" максимум или минимум."
   ]
  }
 ],
 "metadata": {
  "kernelspec": {
   "display_name": "Python 3 (ipykernel)",
   "language": "python",
   "name": "python3"
  },
  "language_info": {
   "codemirror_mode": {
    "name": "ipython",
    "version": 3
   },
   "file_extension": ".py",
   "mimetype": "text/x-python",
   "name": "python",
   "nbconvert_exporter": "python",
   "pygments_lexer": "ipython3",
   "version": "3.9.12"
  }
 },
 "nbformat": 4,
 "nbformat_minor": 5
}
