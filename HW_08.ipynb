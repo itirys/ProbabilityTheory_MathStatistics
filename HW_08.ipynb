{
 "cells": [
  {
   "cell_type": "code",
   "execution_count": 27,
   "id": "52a7d75c",
   "metadata": {},
   "outputs": [],
   "source": [
    "import numpy as np\n",
    "from scipy import stats"
   ]
  },
  {
   "cell_type": "markdown",
   "id": "62719d06",
   "metadata": {},
   "source": [
    "**Провести дисперсионный анализ для определения того, есть ли различия среднего роста среди взрослых футболистов, хоккеистов и штангистов. Даны значения роста в трех группах случайно выбранных спортсменов:**\n",
    "\n",
    "**football_players = [173, 175, 180, 178, 177, 185, 183, 182]** \n",
    "\n",
    "**hockey_players = [177, 179, 180, 188, 177, 172, 171, 184, 180]**\n",
    "\n",
    "**lifters = [172, 173, 169, 177, 166, 180, 178, 177, 172, 166, 170]**"
   ]
  },
  {
   "cell_type": "code",
   "execution_count": 28,
   "id": "4bcec457",
   "metadata": {},
   "outputs": [
    {
     "name": "stdout",
     "output_type": "stream",
     "text": [
      "футболисты: [173 175 180 178 177 185 183 182]\n",
      "хоккеисты: [177 179 180 188 177 172 171 184 180]\n",
      "штангисты: [172 173 169 177 166 180 178 177 172 166 170]\n"
     ]
    }
   ],
   "source": [
    "fp = np.array([173, 175, 180, 178, 177, 185, 183, 182])  # футболисты\n",
    "hp = np.array([177, 179, 180, 188, 177, 172, 171, 184, 180])  # хоккеисты\n",
    "ls = np.array([172, 173, 169, 177, 166, 180, 178, 177, 172, 166, 170])  # штангисты\n",
    "\n",
    "print(f'футболисты: {fp}\\nхоккеисты: {hp}\\nштангисты: {ls}')"
   ]
  },
  {
   "cell_type": "code",
   "execution_count": 29,
   "id": "ec63a5f4",
   "metadata": {},
   "outputs": [
    {
     "name": "stdout",
     "output_type": "stream",
     "text": [
      "кол-во футболистов: 8\n",
      "кол-во хоккеистов: 9\n",
      "кол-во штангистов: 11\n"
     ]
    }
   ],
   "source": [
    "n1 = fp.shape[0]\n",
    "n2 = hp.shape[0]\n",
    "n3 = ls.shape[0]\n",
    "\n",
    "print(f'кол-во футболистов: {n1}\\nкол-во хоккеистов: {n2}\\nкол-во штангистов: {n3}')"
   ]
  },
  {
   "cell_type": "markdown",
   "id": "45f01c23",
   "metadata": {},
   "source": [
    "Выборочный средний рост по каждой группе:"
   ]
  },
  {
   "cell_type": "code",
   "execution_count": 30,
   "id": "473d5289",
   "metadata": {},
   "outputs": [
    {
     "data": {
      "text/plain": [
       "(179.125, 178.667, 172.727)"
      ]
     },
     "execution_count": 30,
     "metadata": {},
     "output_type": "execute_result"
    }
   ],
   "source": [
    "fp_mean = fp.mean()\n",
    "hp_mean = hp.mean()\n",
    "ls_mean = ls.mean()\n",
    "\n",
    "round(fp_mean, 3), round(hp_mean, 3), round(ls_mean, 3)"
   ]
  },
  {
   "cell_type": "markdown",
   "id": "b3d5aa4b",
   "metadata": {},
   "source": [
    "Средний рост из предоставленных выборок по футболистам и хоккеистам почти одинаков. Немного большим отличаются штангисты. Проверим гипотезу  𝐻0  о равенстве средних значений по каждой выборке.\n",
    "\n",
    "Соберем в один массив все три выборки и посчитаем среднее:"
   ]
  },
  {
   "cell_type": "code",
   "execution_count": 31,
   "id": "5c6711a1",
   "metadata": {},
   "outputs": [
    {
     "name": "stdout",
     "output_type": "stream",
     "text": [
      "[173 175 180 178 177 185 183 182 177 179 180 188 177 172 171 184 180 172\n",
      " 173 169 177 166 180 178 177 172 166 170]\n",
      "\n",
      "176.464\n"
     ]
    }
   ],
   "source": [
    "y = np.concatenate([fp, hp, ls])\n",
    "\n",
    "y_mean = round(y.mean(), 3)\n",
    "\n",
    "print(f'{y}\\n\\n{y_mean}')"
   ]
  },
  {
   "cell_type": "markdown",
   "id": "558168e4",
   "metadata": {},
   "source": [
    "Найдем значение $S^2_F$ и $S^2_{res}$:"
   ]
  },
  {
   "cell_type": "code",
   "execution_count": 32,
   "id": "834db259",
   "metadata": {},
   "outputs": [
    {
     "data": {
      "text/plain": [
       "(253.907, 577.057)"
      ]
     },
     "execution_count": 32,
     "metadata": {},
     "output_type": "execute_result"
    }
   ],
   "source": [
    "S2F = round(n1 * (fp_mean - y_mean) ** 2 + n2 * (hp_mean - y_mean) ** 2 + n3 * (ls_mean - y_mean) ** 2, 3)\n",
    "\n",
    "S2res = round(((fp - fp_mean) ** 2).sum() + ((hp - hp_mean) ** 2).sum() + ((ls - ls_mean) ** 2).sum(), 3)\n",
    "\n",
    "S2F, S2res"
   ]
  },
  {
   "cell_type": "markdown",
   "id": "5a6df23e",
   "metadata": {},
   "source": [
    "Проверяем выполнение равенства $S^2 = S_F^2 + S_{res}^2:$"
   ]
  },
  {
   "cell_type": "code",
   "execution_count": 33,
   "id": "f7029168",
   "metadata": {},
   "outputs": [
    {
     "data": {
      "text/plain": [
       "True"
      ]
     },
     "execution_count": 33,
     "metadata": {},
     "output_type": "execute_result"
    }
   ],
   "source": [
    "S2F + S2res == round(((y - y_mean) ** 2).sum(), 3)"
   ]
  },
  {
   "cell_type": "markdown",
   "id": "631c8ef1",
   "metadata": {},
   "source": [
    "Вычисляем соответствующие несмещенные оценки дисперсий:"
   ]
  },
  {
   "cell_type": "code",
   "execution_count": 34,
   "id": "65139c94",
   "metadata": {},
   "outputs": [
    {
     "data": {
      "text/plain": [
       "(126.954, 23.082)"
      ]
     },
     "execution_count": 34,
     "metadata": {},
     "output_type": "execute_result"
    }
   ],
   "source": [
    "k = 3  # 3 группы спортсменов\n",
    "n = n1 + n2 + n3\n",
    "\n",
    "k1 = k - 1\n",
    "k2 = n - k\n",
    "\n",
    "sigma2F = round(S2F / k1, 3)\n",
    "sigma2res = round(S2res / k2, 3)\n",
    "\n",
    "sigma2F, sigma2res"
   ]
  },
  {
   "cell_type": "markdown",
   "id": "af3904de",
   "metadata": {},
   "source": [
    "Вычисляем статистику:"
   ]
  },
  {
   "cell_type": "code",
   "execution_count": 35,
   "id": "2404e0f2",
   "metadata": {},
   "outputs": [
    {
     "data": {
      "text/plain": [
       "5.5"
      ]
     },
     "execution_count": 35,
     "metadata": {},
     "output_type": "execute_result"
    }
   ],
   "source": [
    "T = round(sigma2F / sigma2res, 3)\n",
    "T"
   ]
  },
  {
   "cell_type": "markdown",
   "id": "509bf315",
   "metadata": {},
   "source": [
    "Осталось $𝐹_{𝑐𝑟𝑖𝑡}$. \n",
    "\n",
    "Установим уровень значимости 𝛼 = 0.05."
   ]
  },
  {
   "cell_type": "code",
   "execution_count": 36,
   "id": "350ecaa4",
   "metadata": {},
   "outputs": [
    {
     "data": {
      "text/plain": [
       "3.385"
      ]
     },
     "execution_count": 36,
     "metadata": {},
     "output_type": "execute_result"
    }
   ],
   "source": [
    "F_crit = round(stats.f.ppf(1 - 0.05, k1, k2), 3)\n",
    "\n",
    "F_crit"
   ]
  },
  {
   "cell_type": "markdown",
   "id": "79717c3f",
   "metadata": {},
   "source": [
    "T > $𝐹_{𝑐𝑟𝑖𝑡}$, следовательно отличие среднего роста по группам спортсменов действительно является статистически значимым."
   ]
  }
 ],
 "metadata": {
  "kernelspec": {
   "display_name": "Python 3 (ipykernel)",
   "language": "python",
   "name": "python3"
  },
  "language_info": {
   "codemirror_mode": {
    "name": "ipython",
    "version": 3
   },
   "file_extension": ".py",
   "mimetype": "text/x-python",
   "name": "python",
   "nbconvert_exporter": "python",
   "pygments_lexer": "ipython3",
   "version": "3.9.12"
  }
 },
 "nbformat": 4,
 "nbformat_minor": 5
}
